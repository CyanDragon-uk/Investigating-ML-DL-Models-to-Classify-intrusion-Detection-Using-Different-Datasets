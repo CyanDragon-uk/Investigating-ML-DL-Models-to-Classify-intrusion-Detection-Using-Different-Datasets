{
  "cells": [
    {
      "cell_type": "code",
      "execution_count": 2,
      "metadata": {
        "id": "lbMPoDqkJM7N"
      },
      "outputs": [],
      "source": [
        "# Core libraries\n",
        "import os\n",
        "import hashlib\n",
        "import numpy as np\n",
        "import pandas as pd\n",
        "\n",
        "# Visual\n",
        "import matplotlib.pyplot as plt\n",
        "import seaborn as sns\n",
        "\n",
        "# Google\n",
        "from google.colab import drive\n",
        "\n",
        "# Keras\n",
        "from keras.models import Sequential\n",
        "from keras.layers import (\n",
        "    Dense, Dropout, BatchNormalization, Flatten,\n",
        "    Conv1D, MaxPooling1D, GRU, LSTM, Embedding\n",
        ")\n",
        "from keras.callbacks import EarlyStopping\n",
        "\n",
        "# Scikit-learn\n",
        "from sklearn.model_selection import train_test_split\n",
        "from sklearn.preprocessing import StandardScaler\n",
        "from sklearn.utils import resample\n",
        "from sklearn.decomposition import PCA\n",
        "from sklearn.linear_model import LogisticRegression, SGDClassifier\n",
        "from sklearn.svm import SVC\n",
        "from sklearn.neighbors import KNeighborsClassifier\n",
        "from sklearn.ensemble import GradientBoostingClassifier\n",
        "from sklearn.metrics import accuracy_score, precision_score, recall_score, f1_score"
      ]
    },
    {
      "cell_type": "code",
      "execution_count": null,
      "metadata": {
        "colab": {
          "background_save": true
        },
        "id": "wuEVGphU8BGE",
        "outputId": "ec3f172c-34d1-4a2a-9b01-2fd5e390063f"
      },
      "outputs": [
        {
          "ename": "ValueError",
          "evalue": "mount failed",
          "output_type": "error",
          "traceback": [
            "\u001b[0;31m---------------------------------------------------------------------------\u001b[0m",
            "\u001b[0;31mValueError\u001b[0m                                Traceback (most recent call last)",
            "\u001b[0;32m<ipython-input-1-67ba54f08bb9>\u001b[0m in \u001b[0;36m<cell line: 0>\u001b[0;34m()\u001b[0m\n\u001b[1;32m      7\u001b[0m \u001b[0;34m\u001b[0m\u001b[0m\n\u001b[1;32m      8\u001b[0m \u001b[0;31m# 1. Mount Google Drive\u001b[0m\u001b[0;34m\u001b[0m\u001b[0;34m\u001b[0m\u001b[0m\n\u001b[0;32m----> 9\u001b[0;31m \u001b[0mdrive\u001b[0m\u001b[0;34m.\u001b[0m\u001b[0mmount\u001b[0m\u001b[0;34m(\u001b[0m\u001b[0;34m'/content/drive'\u001b[0m\u001b[0;34m)\u001b[0m\u001b[0;34m\u001b[0m\u001b[0;34m\u001b[0m\u001b[0m\n\u001b[0m\u001b[1;32m     10\u001b[0m \u001b[0;34m\u001b[0m\u001b[0m\n\u001b[1;32m     11\u001b[0m \u001b[0;31m# 2. Define Correct Paths\u001b[0m\u001b[0;34m\u001b[0m\u001b[0;34m\u001b[0m\u001b[0m\n",
            "\u001b[0;32m/usr/local/lib/python3.11/dist-packages/google/colab/drive.py\u001b[0m in \u001b[0;36mmount\u001b[0;34m(mountpoint, force_remount, timeout_ms, readonly)\u001b[0m\n\u001b[1;32m     98\u001b[0m \u001b[0;32mdef\u001b[0m \u001b[0mmount\u001b[0m\u001b[0;34m(\u001b[0m\u001b[0mmountpoint\u001b[0m\u001b[0;34m,\u001b[0m \u001b[0mforce_remount\u001b[0m\u001b[0;34m=\u001b[0m\u001b[0;32mFalse\u001b[0m\u001b[0;34m,\u001b[0m \u001b[0mtimeout_ms\u001b[0m\u001b[0;34m=\u001b[0m\u001b[0;36m120000\u001b[0m\u001b[0;34m,\u001b[0m \u001b[0mreadonly\u001b[0m\u001b[0;34m=\u001b[0m\u001b[0;32mFalse\u001b[0m\u001b[0;34m)\u001b[0m\u001b[0;34m:\u001b[0m\u001b[0;34m\u001b[0m\u001b[0;34m\u001b[0m\u001b[0m\n\u001b[1;32m     99\u001b[0m   \u001b[0;34m\"\"\"Mount your Google Drive at the specified mountpoint path.\"\"\"\u001b[0m\u001b[0;34m\u001b[0m\u001b[0;34m\u001b[0m\u001b[0m\n\u001b[0;32m--> 100\u001b[0;31m   return _mount(\n\u001b[0m\u001b[1;32m    101\u001b[0m       \u001b[0mmountpoint\u001b[0m\u001b[0;34m,\u001b[0m\u001b[0;34m\u001b[0m\u001b[0;34m\u001b[0m\u001b[0m\n\u001b[1;32m    102\u001b[0m       \u001b[0mforce_remount\u001b[0m\u001b[0;34m=\u001b[0m\u001b[0mforce_remount\u001b[0m\u001b[0;34m,\u001b[0m\u001b[0;34m\u001b[0m\u001b[0;34m\u001b[0m\u001b[0m\n",
            "\u001b[0;32m/usr/local/lib/python3.11/dist-packages/google/colab/drive.py\u001b[0m in \u001b[0;36m_mount\u001b[0;34m(mountpoint, force_remount, timeout_ms, ephemeral, readonly)\u001b[0m\n\u001b[1;32m    275\u001b[0m             \u001b[0;34m'https://research.google.com/colaboratory/faq.html#drive-timeout'\u001b[0m\u001b[0;34m\u001b[0m\u001b[0;34m\u001b[0m\u001b[0m\n\u001b[1;32m    276\u001b[0m         )\n\u001b[0;32m--> 277\u001b[0;31m       \u001b[0;32mraise\u001b[0m \u001b[0mValueError\u001b[0m\u001b[0;34m(\u001b[0m\u001b[0;34m'mount failed'\u001b[0m \u001b[0;34m+\u001b[0m \u001b[0mextra_reason\u001b[0m\u001b[0;34m)\u001b[0m\u001b[0;34m\u001b[0m\u001b[0;34m\u001b[0m\u001b[0m\n\u001b[0m\u001b[1;32m    278\u001b[0m     \u001b[0;32melif\u001b[0m \u001b[0mcase\u001b[0m \u001b[0;34m==\u001b[0m \u001b[0;36m4\u001b[0m\u001b[0;34m:\u001b[0m\u001b[0;34m\u001b[0m\u001b[0;34m\u001b[0m\u001b[0m\n\u001b[1;32m    279\u001b[0m       \u001b[0;31m# Terminate the DriveFS binary before killing bash.\u001b[0m\u001b[0;34m\u001b[0m\u001b[0;34m\u001b[0m\u001b[0m\n",
            "\u001b[0;31mValueError\u001b[0m: mount failed"
          ]
        }
      ],
      "source": [
        "drive.mount('/content/drive')\n",
        "\n",
        "base_path = \"/content/drive/My Drive/Final Year/01-12/\"\n",
        "input_file = os.path.join(base_path, \"export_dataframe.csv\")\n",
        "train_output_file = os.path.join(base_path, \"export_dataframe_proc.csv\")\n",
        "test_output_file = os.path.join(base_path, \"export_tests.csv\")\n",
        "\n",
        "dtype_spec = {85: str}  # Ensure treated as a string\n",
        "samples = pd.read_csv(input_file, sep=',', dtype=dtype_spec, low_memory=False)\n",
        "\n",
        "samples.columns = samples.columns.str.strip()\n",
        "\n",
        "def string2numeric_hash(text):\n",
        "    return int(hashlib.md5(text.encode('utf-8')).hexdigest()[:8], 16)\n",
        "\n",
        "samples.replace(['Infinity', np.inf], 0, inplace=True)\n",
        "samples['Flow Packets/s'] = pd.to_numeric(samples['Flow Packets/s'], errors='coerce').fillna(0)\n",
        "samples['Flow Bytes/s'] = pd.to_numeric(samples['Flow Bytes/s'], errors='coerce').fillna(0)\n",
        "\n",
        "attack_labels = [\n",
        "    'DrDoS_DNS', 'DrDoS_LDAP', 'DrDoS_MSSQL', 'DrDoS_NTP', 'DrDoS_NetBIOS',\n",
        "    'DrDoS_SNMP', 'DrDoS_SSDP', 'DrDoS_UDP', 'Syn', 'TFTP', 'UDP-lag', 'WebDDoS'\n",
        "]\n",
        "samples['Label'] = samples['Label'].apply(lambda x: 1 if x in attack_labels else 0)\n",
        "\n",
        "\n",
        "if 'Timestamp' in samples.columns:\n",
        "    samples['Timestamp'] = samples['Timestamp'].fillna('')\n",
        "    time_data = samples['Timestamp'].str.split(' ', n=1, expand=True)\n",
        "\n",
        "    if time_data.shape[1] > 1:\n",
        "        time_data.columns = ['day', 'time']\n",
        "        time_data['time'] = time_data['time'].str.split('.', n=1, expand=True)[0]  #\n",
        "        samples['Timestamp'] = time_data['time'].apply(string2numeric_hash)\n",
        "\n",
        "drop_cols = ['Source IP', 'Destination IP', 'Flow ID', 'SimillarHTTP', 'Unnamed: 0']\n",
        "samples.drop(columns=drop_cols, errors='ignore', inplace=True)\n",
        "\n",
        "train_data, test_data = train_test_split(samples, test_size=0.2, random_state=42, stratify=samples['Label'])\n",
        "train_data.to_csv(train_output_file, index=False)\n",
        "test_data.to_csv(test_output_file, index=False)\n",
        "\n",
        "print('Training data saved at:', train_output_file)\n",
        "print('Test data saved at:', test_output_file)"
      ]
    },
    {
      "cell_type": "code",
      "execution_count": null,
      "metadata": {
        "colab": {
          "base_uri": "https://localhost:8080/"
        },
        "id": "27jmZnjpYA47",
        "outputId": "8d498fbf-6601-4a90-b595-7a71d4888fa6"
      },
      "outputs": [
        {
          "name": "stdout",
          "output_type": "stream",
          "text": [
            "File exists: /content/drive/My Drive/Final Year/01-12/export_tests.csv\n"
          ]
        }
      ],
      "source": [
        "import os\n",
        "\n",
        "base_path = \"/content/drive/My Drive/Final Year/01-12/\"\n",
        "input_file = os.path.join(base_path, \"export_tests.csv\")\n",
        "\n",
        "if os.path.exists(input_file):\n",
        "    print(\"File exists:\", input_file)\n",
        "else:\n",
        "    print(\"File NOT FOUND:\", input_file)\n"
      ]
    },
    {
      "cell_type": "code",
      "execution_count": null,
      "metadata": {
        "colab": {
          "base_uri": "https://localhost:8080/"
        },
        "id": "ZQtbscvh8BGE",
        "outputId": "e45f3759-43a0-4ba3-b2da-e74c39afd207"
      },
      "outputs": [
        {
          "name": "stdout",
          "output_type": "stream",
          "text": [
            "Drive already mounted at /content/drive; to attempt to forcibly remount, call drive.mount(\"/content/drive\", force_remount=True).\n",
            "Test data processed and saved at: /content/drive/My Drive/Final Year/01-12/export_tests_proc.csv\n"
          ]
        }
      ],
      "source": [
        "drive.mount('/content/drive')\n",
        "base_path = \"/content/drive/My Drive/Final Year/01-12/\"\n",
        "input_file = os.path.join(base_path, \"export_tests.csv\")\n",
        "output_file = os.path.join(base_path, \"export_tests_proc.csv\")\n",
        "\n",
        "dtype_spec = {85: str}\n",
        "tests = pd.read_csv(input_file, sep=',', dtype=dtype_spec, low_memory=False)\n",
        "tests.columns = tests.columns.str.strip()\n",
        "def string2numeric_hash(text):\n",
        "    return int(hashlib.md5(text.encode('utf-8')).hexdigest()[:8], 16)\n",
        "\n",
        "tests.replace(['Infinity', np.inf], 0, inplace=True)\n",
        "tests['Flow Packets/s'] = pd.to_numeric(tests['Flow Packets/s'], errors='coerce').fillna(0)\n",
        "tests['Flow Bytes/s'] = pd.to_numeric(tests['Flow Bytes/s'], errors='coerce').fillna(0)\n",
        "\n",
        "attack_labels = ['LDAP', 'NetBIOS', 'MSSQL', 'Portmap', 'Syn']\n",
        "tests['Label'] = tests['Label'].apply(lambda x: 1 if x in attack_labels else 0)\n",
        "\n",
        "if 'Timestamp' in tests.columns:\n",
        "    tests['Timestamp'] = tests['Timestamp'].astype(str).fillna('')  # Convert to string, fill NaN\n",
        "    time_data = tests['Timestamp'].str.split(' ', n=1, expand=True)\n",
        "\n",
        "    if time_data.shape[1] > 1:  # Ensure there are two parts\n",
        "        time_data.columns = ['day', 'time']\n",
        "        time_data['time'] = time_data['time'].str.split('.', n=1, expand=True)[0]  # Extract HH:MM:SS\n",
        "        tests['Timestamp'] = time_data['time'].apply(string2numeric_hash)\n",
        "\n",
        "drop_cols = ['Source IP', 'Destination IP', 'Flow ID', 'SimillarHTTP', 'Unnamed: 0']\n",
        "tests.drop(columns=drop_cols, errors='ignore', inplace=True)\n",
        "\n",
        "tests.to_csv(output_file, index=False)\n",
        "print('Test data processed and saved at:', output_file)\n"
      ]
    },
    {
      "cell_type": "code",
      "execution_count": null,
      "metadata": {
        "id": "QXU7S_v68BGH"
      },
      "outputs": [],
      "source": [
        "def train_test(samples):\n",
        "    from sklearn.model_selection import train_test_split\n",
        "    import numpy as np\n",
        "\n",
        "    X=samples.iloc[:,0:(samples.shape[1]-1)]\n",
        "\n",
        "    y= samples.iloc[:,-1]\n",
        "\n",
        "    X_train, X_test, y_train, y_test = train_test_split(X, y, test_size=0.33, random_state=42)\n",
        "\n",
        "    return X_train, X_test, y_train, y_test"
      ]
    },
    {
      "cell_type": "code",
      "execution_count": null,
      "metadata": {
        "id": "upSMZgL78BGH"
      },
      "outputs": [],
      "source": [
        "def normalise_data(X_train,X_test):\n",
        "    from sklearn.preprocessing import StandardScaler,MinMaxScaler\n",
        "\n",
        "    scaler = MinMaxScaler(feature_range=(-1, 1)).fit(X_train)\n",
        "\n",
        "    X_train = scaler.transform(X_train)\n",
        "\n",
        "    X_test = scaler.transform(X_test)\n",
        "\n",
        "    return X_train, X_test"
      ]
    },
    {
      "cell_type": "code",
      "source": [
        "def format_3d(df):\n",
        "\n",
        "    X = np.array(df)\n",
        "    return np.reshape(X, (X.shape[0], X.shape[1], 1))"
      ],
      "metadata": {
        "id": "mruRaKGTUBrH"
      },
      "execution_count": null,
      "outputs": []
    },
    {
      "cell_type": "code",
      "execution_count": 1,
      "metadata": {
        "id": "jvrlnXhI8BGH"
      },
      "outputs": [],
      "source": [
        "def format_2d(df):\n",
        "\n",
        "    X = np.array(df)\n",
        "    return np.reshape(X, (X.shape[0], X.shape[1]))"
      ]
    },
    {
      "cell_type": "code",
      "execution_count": null,
      "metadata": {
        "id": "sh9tD_jK8BGH"
      },
      "outputs": [],
      "source": [
        "import matplotlib.pyplot as plt\n",
        "\n",
        "def compile_train(model, X_train, y_train, deep=True, model_name=\"Unknown Model\"):\n",
        "    if deep:  # Deep Learning Models (Keras)\n",
        "        history = model.fit(X_train, y_train, epochs=10, batch_size=32, validation_split=0.2)\n",
        "\n",
        "        print(f\"📊 Training Accuracy Plot for: {model_name}\")\n",
        "\n",
        "        plt.plot(history.history['accuracy'])\n",
        "        plt.title(f'Model Accuracy: {model_name}')\n",
        "        plt.ylabel('Accuracy')\n",
        "        plt.xlabel('Epoch')\n",
        "        plt.show()\n",
        "\n",
        "        return model\n",
        "    else:  # Traditional ML Models (Scikit-learn)\n",
        "        model.fit(X_train, y_train)  # No epochs for Scikit-learn models\n",
        "        print(f\" {model_name} trained successfully!\")\n",
        "        return model\n"
      ]
    },
    {
      "cell_type": "code",
      "execution_count": null,
      "metadata": {
        "id": "RO-bDaFt8BGI"
      },
      "outputs": [],
      "source": [
        "def tests(model, X_test, y_test, y_pred, deep=False):\n",
        "    if deep:\n",
        "        X_test_3d = format_3d(X_test.copy())  # Ensure correct shape\n",
        "\n",
        "        y_test = np.array(y_test, dtype=np.float32).reshape(-1, 1)\n",
        "\n",
        "        score = model.evaluate(X_test_3d, y_test, verbose=1)\n",
        "        print(score)\n",
        "\n",
        "    from sklearn.metrics import accuracy_score, precision_score, recall_score, f1_score\n",
        "\n",
        "    acc = accuracy_score(y_test, y_pred)\n",
        "    prec = precision_score(y_test, y_pred)\n",
        "    rec = recall_score(y_test, y_pred)\n",
        "    f1 = f1_score(y_test, y_pred)\n",
        "    avrg = (acc + prec + rec + f1) / 4  # Simple average metric\n",
        "\n",
        "    return acc, prec, rec, f1, avrg"
      ]
    },
    {
      "cell_type": "code",
      "execution_count": null,
      "metadata": {
        "id": "2Bak3Tum8BGI"
      },
      "outputs": [],
      "source": [
        "def test_normal_atk(y_test,y_pred):\n",
        "    df = pd.DataFrame()\n",
        "    df['y_test'] = y_test\n",
        "    df['y_pred'] = y_pred\n",
        "\n",
        "    normal = len(df.query('y_test == 0'))\n",
        "    atk = len(y_test)-normal\n",
        "\n",
        "    wrong = df.query('y_test != y_pred')\n",
        "\n",
        "    normal_detect_rate = (normal - wrong.groupby('y_test').count().iloc[0][0]) / normal\n",
        "    atk_detect_rate = (atk - wrong.groupby('y_test').count().iloc[1][0]) / atk\n",
        "\n",
        "\n",
        "    return normal_detect_rate, atk_detect_rate\n"
      ]
    },
    {
      "cell_type": "code",
      "source": [
        "def save_model(model,name):\n",
        "    from keras.models import model_from_json\n",
        "\n",
        "    arq_json = 'Models/' + name + '.json'\n",
        "    model_json = model.to_json()\n",
        "    with open(arq_json,\"w\") as json_file:\n",
        "        json_file.write(model_json)\n",
        "\n",
        "    arq_h5 = 'Models/' + name + '.h5'\n",
        "    model.save_weights(arq_h5)\n",
        "    print('Model Saved')"
      ],
      "metadata": {
        "id": "bWiZUSbKUmqY"
      },
      "execution_count": null,
      "outputs": []
    },
    {
      "cell_type": "code",
      "source": [
        "def load_model(name):\n",
        "    from keras.models import model_from_json\n",
        "\n",
        "    arq_json = 'Models/' + name + '.json'\n",
        "    json_file = open(arq_json,'r')\n",
        "    loaded_model_json = json_file.read()\n",
        "    json_file.close()\n",
        "    loaded_model = model_from_json(loaded_model_json)\n",
        "\n",
        "    arq_h5 = 'Models/' + name + '.h5'\n",
        "    loaded_model.load_weights(arq_h5)\n",
        "\n",
        "    print('Model loaded')\n",
        "\n",
        "    return loaded_model"
      ],
      "metadata": {
        "id": "A0Ma07HIUomL"
      },
      "execution_count": null,
      "outputs": []
    },
    {
      "cell_type": "code",
      "source": [
        "def save_Sklearn(model,nome):\n",
        "    import pickle\n",
        "    arquivo = 'Models/'+ nome + '.pkl'\n",
        "    with open(arquivo,'wb') as file:\n",
        "        pickle.dump(model,file)\n",
        "    print('Model sklearn saved')"
      ],
      "metadata": {
        "id": "Bsj-moAEUrji"
      },
      "execution_count": null,
      "outputs": []
    },
    {
      "cell_type": "code",
      "execution_count": null,
      "metadata": {
        "id": "8DeBw-828BGI"
      },
      "outputs": [],
      "source": [
        "def load_Sklearn(nome):\n",
        "    import pickle\n",
        "    arquivo = 'Models/'+ nome + '.pkl'\n",
        "    with open(arquivo,'rb') as file:\n",
        "        model = pickle.load(file)\n",
        "    print('Model sklearn loaded')\n",
        "    return model"
      ]
    },
    {
      "cell_type": "code",
      "execution_count": null,
      "metadata": {
        "colab": {
          "base_uri": "https://localhost:8080/"
        },
        "id": "Y6cfU-CG8BGI",
        "outputId": "a174be16-f088-4828-8d62-064ea25c3aa1"
      },
      "outputs": [
        {
          "name": "stdout",
          "output_type": "stream",
          "text": [
            "Upsampling complete. Training data is balanced.\n"
          ]
        }
      ],
      "source": [
        "samples = pd.read_csv('/content/drive/My Drive/Final Year/01-12/export_dataframe_proc.csv', sep=',')\n",
        "\n",
        "samples.columns = samples.columns.str.strip()\n",
        "\n",
        "X = samples.drop(columns=['Label'])  # Features\n",
        "y = samples['Label']  # Target\n",
        "\n",
        "X_train, X_test, y_train, y_test = train_test_split(X, y, test_size=0.2, random_state=42, stratify=y)\n",
        "\n",
        "X_train_full = pd.concat([X_train, y_train], axis=1)\n",
        "\n",
        "is_benign = X_train_full['Label'] == 0\n",
        "normal = X_train_full[is_benign]\n",
        "ddos = X_train_full[~is_benign]\n",
        "\n",
        "normal_upsampled = resample(normal,\n",
        "                            replace=True,  # Sample with replacement\n",
        "                            n_samples=len(ddos),  # Match number in majority class\n",
        "                            random_state=42)  # Reproducible results\n",
        "\n",
        "upsampled = pd.concat([normal_upsampled, ddos])\n",
        "\n",
        "X_train = upsampled.drop(columns=['Label'])\n",
        "y_train = upsampled['Label']\n",
        "\n",
        "input_size = (X_train.shape[1], 1)\n",
        "\n",
        "del X_train_full, normal_upsampled, ddos, upsampled, normal\n",
        "\n",
        "print(\"Upsampling complete. Training data is balanced.\")"
      ]
    },
    {
      "cell_type": "code",
      "execution_count": null,
      "metadata": {
        "colab": {
          "base_uri": "https://localhost:8080/"
        },
        "id": "zVOyq22d8BGI",
        "outputId": "28de720b-9b03-41b4-bfc1-319d22fc0c68"
      },
      "outputs": [
        {
          "name": "stdout",
          "output_type": "stream",
          "text": [
            "Upsampling complete. Training data is balanced.\n"
          ]
        }
      ],
      "source": [
        "samples = pd.read_csv('/content/drive/My Drive/Final Year/01-12/export_dataframe_proc.csv', sep=',')\n",
        "\n",
        "samples.columns = samples.columns.str.strip()\n",
        "\n",
        "X = samples.drop(columns=['Label'])  # Features\n",
        "y = samples['Label']  # Target\n",
        "\n",
        "X_train, X_test, y_train, y_test = train_test_split(X, y, test_size=0.2, random_state=42, stratify=y)\n",
        "\n",
        "X_train_full = pd.concat([X_train, y_train], axis=1)\n",
        "\n",
        "is_benign = X_train_full['Label'] == 0\n",
        "normal = X_train_full[is_benign]\n",
        "ddos = X_train_full[~is_benign]\n",
        "\n",
        "normal_upsampled = resample(normal,\n",
        "                            replace=True,  # Sample with replacement\n",
        "                            n_samples=len(ddos),  # Match number in majority class\n",
        "                            random_state=27)  # Reproducible results\n",
        "\n",
        "upsampled = pd.concat([normal_upsampled, ddos])\n",
        "\n",
        "X_train = upsampled.drop(columns=['Label'])\n",
        "y_train = upsampled['Label']\n",
        "\n",
        "input_size = (X_train.shape[1], 1)\n",
        "\n",
        "del X_train_full, normal_upsampled, ddos, upsampled, normal\n",
        "\n",
        "print(\"Upsampling complete. Training data is balanced.\")\n"
      ]
    },
    {
      "cell_type": "code",
      "execution_count": null,
      "metadata": {
        "colab": {
          "base_uri": "https://localhost:8080/"
        },
        "id": "d4vKOKNDltve",
        "outputId": "1c9714f1-f490-47ee-a5f1-9bb6e1b567dc"
      },
      "outputs": [
        {
          "name": "stdout",
          "output_type": "stream",
          "text": [
            "('input_size', 'model')\n"
          ]
        }
      ],
      "source": [
        "print(GRU_model.__code__.co_varnames)\n"
      ]
    },
    {
      "cell_type": "code",
      "execution_count": null,
      "metadata": {
        "colab": {
          "base_uri": "https://localhost:8080/",
          "height": 989
        },
        "id": "aiqHwlRc8BGJ",
        "outputId": "b58eab8d-a89d-4905-964d-5177c5a2f5b9",
        "scrolled": true
      },
      "outputs": [
        {
          "name": "stderr",
          "output_type": "stream",
          "text": [
            "/usr/local/lib/python3.11/dist-packages/keras/src/layers/rnn/rnn.py:200: UserWarning: Do not pass an `input_shape`/`input_dim` argument to a layer. When using Sequential models, prefer using an `Input(shape)` object as the first layer in the model instead.\n",
            "  super().__init__(**kwargs)\n"
          ]
        },
        {
          "data": {
            "text/html": [
              "<pre style=\"white-space:pre;overflow-x:auto;line-height:normal;font-family:Menlo,'DejaVu Sans Mono',consolas,'Courier New',monospace\"><span style=\"font-weight: bold\">Model: \"sequential\"</span>\n",
              "</pre>\n"
            ],
            "text/plain": [
              "\u001b[1mModel: \"sequential\"\u001b[0m\n"
            ]
          },
          "metadata": {},
          "output_type": "display_data"
        },
        {
          "data": {
            "text/html": [
              "<pre style=\"white-space:pre;overflow-x:auto;line-height:normal;font-family:Menlo,'DejaVu Sans Mono',consolas,'Courier New',monospace\">┏━━━━━━━━━━━━━━━━━━━━━━━━━━━━━━━━━━━━━━┳━━━━━━━━━━━━━━━━━━━━━━━━━━━━━┳━━━━━━━━━━━━━━━━━┓\n",
              "┃<span style=\"font-weight: bold\"> Layer (type)                         </span>┃<span style=\"font-weight: bold\"> Output Shape                </span>┃<span style=\"font-weight: bold\">         Param # </span>┃\n",
              "┡━━━━━━━━━━━━━━━━━━━━━━━━━━━━━━━━━━━━━━╇━━━━━━━━━━━━━━━━━━━━━━━━━━━━━╇━━━━━━━━━━━━━━━━━┩\n",
              "│ gru (<span style=\"color: #0087ff; text-decoration-color: #0087ff\">GRU</span>)                            │ (<span style=\"color: #00d7ff; text-decoration-color: #00d7ff\">None</span>, <span style=\"color: #00af00; text-decoration-color: #00af00\">32</span>)                  │           <span style=\"color: #00af00; text-decoration-color: #00af00\">3,360</span> │\n",
              "├──────────────────────────────────────┼─────────────────────────────┼─────────────────┤\n",
              "│ dropout (<span style=\"color: #0087ff; text-decoration-color: #0087ff\">Dropout</span>)                    │ (<span style=\"color: #00d7ff; text-decoration-color: #00d7ff\">None</span>, <span style=\"color: #00af00; text-decoration-color: #00af00\">32</span>)                  │               <span style=\"color: #00af00; text-decoration-color: #00af00\">0</span> │\n",
              "├──────────────────────────────────────┼─────────────────────────────┼─────────────────┤\n",
              "│ dense (<span style=\"color: #0087ff; text-decoration-color: #0087ff\">Dense</span>)                        │ (<span style=\"color: #00d7ff; text-decoration-color: #00d7ff\">None</span>, <span style=\"color: #00af00; text-decoration-color: #00af00\">10</span>)                  │             <span style=\"color: #00af00; text-decoration-color: #00af00\">330</span> │\n",
              "├──────────────────────────────────────┼─────────────────────────────┼─────────────────┤\n",
              "│ dense_1 (<span style=\"color: #0087ff; text-decoration-color: #0087ff\">Dense</span>)                      │ (<span style=\"color: #00d7ff; text-decoration-color: #00d7ff\">None</span>, <span style=\"color: #00af00; text-decoration-color: #00af00\">1</span>)                   │              <span style=\"color: #00af00; text-decoration-color: #00af00\">11</span> │\n",
              "└──────────────────────────────────────┴─────────────────────────────┴─────────────────┘\n",
              "</pre>\n"
            ],
            "text/plain": [
              "┏━━━━━━━━━━━━━━━━━━━━━━━━━━━━━━━━━━━━━━┳━━━━━━━━━━━━━━━━━━━━━━━━━━━━━┳━━━━━━━━━━━━━━━━━┓\n",
              "┃\u001b[1m \u001b[0m\u001b[1mLayer (type)                        \u001b[0m\u001b[1m \u001b[0m┃\u001b[1m \u001b[0m\u001b[1mOutput Shape               \u001b[0m\u001b[1m \u001b[0m┃\u001b[1m \u001b[0m\u001b[1m        Param #\u001b[0m\u001b[1m \u001b[0m┃\n",
              "┡━━━━━━━━━━━━━━━━━━━━━━━━━━━━━━━━━━━━━━╇━━━━━━━━━━━━━━━━━━━━━━━━━━━━━╇━━━━━━━━━━━━━━━━━┩\n",
              "│ gru (\u001b[38;5;33mGRU\u001b[0m)                            │ (\u001b[38;5;45mNone\u001b[0m, \u001b[38;5;34m32\u001b[0m)                  │           \u001b[38;5;34m3,360\u001b[0m │\n",
              "├──────────────────────────────────────┼─────────────────────────────┼─────────────────┤\n",
              "│ dropout (\u001b[38;5;33mDropout\u001b[0m)                    │ (\u001b[38;5;45mNone\u001b[0m, \u001b[38;5;34m32\u001b[0m)                  │               \u001b[38;5;34m0\u001b[0m │\n",
              "├──────────────────────────────────────┼─────────────────────────────┼─────────────────┤\n",
              "│ dense (\u001b[38;5;33mDense\u001b[0m)                        │ (\u001b[38;5;45mNone\u001b[0m, \u001b[38;5;34m10\u001b[0m)                  │             \u001b[38;5;34m330\u001b[0m │\n",
              "├──────────────────────────────────────┼─────────────────────────────┼─────────────────┤\n",
              "│ dense_1 (\u001b[38;5;33mDense\u001b[0m)                      │ (\u001b[38;5;45mNone\u001b[0m, \u001b[38;5;34m1\u001b[0m)                   │              \u001b[38;5;34m11\u001b[0m │\n",
              "└──────────────────────────────────────┴─────────────────────────────┴─────────────────┘\n"
            ]
          },
          "metadata": {},
          "output_type": "display_data"
        },
        {
          "data": {
            "text/html": [
              "<pre style=\"white-space:pre;overflow-x:auto;line-height:normal;font-family:Menlo,'DejaVu Sans Mono',consolas,'Courier New',monospace\"><span style=\"font-weight: bold\"> Total params: </span><span style=\"color: #00af00; text-decoration-color: #00af00\">3,701</span> (14.46 KB)\n",
              "</pre>\n"
            ],
            "text/plain": [
              "\u001b[1m Total params: \u001b[0m\u001b[38;5;34m3,701\u001b[0m (14.46 KB)\n"
            ]
          },
          "metadata": {},
          "output_type": "display_data"
        },
        {
          "data": {
            "text/html": [
              "<pre style=\"white-space:pre;overflow-x:auto;line-height:normal;font-family:Menlo,'DejaVu Sans Mono',consolas,'Courier New',monospace\"><span style=\"font-weight: bold\"> Trainable params: </span><span style=\"color: #00af00; text-decoration-color: #00af00\">3,701</span> (14.46 KB)\n",
              "</pre>\n"
            ],
            "text/plain": [
              "\u001b[1m Trainable params: \u001b[0m\u001b[38;5;34m3,701\u001b[0m (14.46 KB)\n"
            ]
          },
          "metadata": {},
          "output_type": "display_data"
        },
        {
          "data": {
            "text/html": [
              "<pre style=\"white-space:pre;overflow-x:auto;line-height:normal;font-family:Menlo,'DejaVu Sans Mono',consolas,'Courier New',monospace\"><span style=\"font-weight: bold\"> Non-trainable params: </span><span style=\"color: #00af00; text-decoration-color: #00af00\">0</span> (0.00 B)\n",
              "</pre>\n"
            ],
            "text/plain": [
              "\u001b[1m Non-trainable params: \u001b[0m\u001b[38;5;34m0\u001b[0m (0.00 B)\n"
            ]
          },
          "metadata": {},
          "output_type": "display_data"
        },
        {
          "name": "stdout",
          "output_type": "stream",
          "text": [
            "None\n"
          ]
        },
        {
          "name": "stderr",
          "output_type": "stream",
          "text": [
            "/usr/local/lib/python3.11/dist-packages/keras/src/layers/convolutional/base_conv.py:107: UserWarning: Do not pass an `input_shape`/`input_dim` argument to a layer. When using Sequential models, prefer using an `Input(shape)` object as the first layer in the model instead.\n",
            "  super().__init__(activity_regularizer=activity_regularizer, **kwargs)\n"
          ]
        },
        {
          "data": {
            "text/html": [
              "<pre style=\"white-space:pre;overflow-x:auto;line-height:normal;font-family:Menlo,'DejaVu Sans Mono',consolas,'Courier New',monospace\"><span style=\"font-weight: bold\">Model: \"sequential_2\"</span>\n",
              "</pre>\n"
            ],
            "text/plain": [
              "\u001b[1mModel: \"sequential_2\"\u001b[0m\n"
            ]
          },
          "metadata": {},
          "output_type": "display_data"
        },
        {
          "data": {
            "text/html": [
              "<pre style=\"white-space:pre;overflow-x:auto;line-height:normal;font-family:Menlo,'DejaVu Sans Mono',consolas,'Courier New',monospace\">┏━━━━━━━━━━━━━━━━━━━━━━━━━━━━━━━━━━━━━━┳━━━━━━━━━━━━━━━━━━━━━━━━━━━━━┳━━━━━━━━━━━━━━━━━┓\n",
              "┃<span style=\"font-weight: bold\"> Layer (type)                         </span>┃<span style=\"font-weight: bold\"> Output Shape                </span>┃<span style=\"font-weight: bold\">         Param # </span>┃\n",
              "┡━━━━━━━━━━━━━━━━━━━━━━━━━━━━━━━━━━━━━━╇━━━━━━━━━━━━━━━━━━━━━━━━━━━━━╇━━━━━━━━━━━━━━━━━┩\n",
              "│ lstm (<span style=\"color: #0087ff; text-decoration-color: #0087ff\">LSTM</span>)                          │ (<span style=\"color: #00d7ff; text-decoration-color: #00d7ff\">None</span>, <span style=\"color: #00af00; text-decoration-color: #00af00\">32</span>)                  │           <span style=\"color: #00af00; text-decoration-color: #00af00\">4,352</span> │\n",
              "├──────────────────────────────────────┼─────────────────────────────┼─────────────────┤\n",
              "│ dropout_2 (<span style=\"color: #0087ff; text-decoration-color: #0087ff\">Dropout</span>)                  │ (<span style=\"color: #00d7ff; text-decoration-color: #00d7ff\">None</span>, <span style=\"color: #00af00; text-decoration-color: #00af00\">32</span>)                  │               <span style=\"color: #00af00; text-decoration-color: #00af00\">0</span> │\n",
              "├──────────────────────────────────────┼─────────────────────────────┼─────────────────┤\n",
              "│ dense_4 (<span style=\"color: #0087ff; text-decoration-color: #0087ff\">Dense</span>)                      │ (<span style=\"color: #00d7ff; text-decoration-color: #00d7ff\">None</span>, <span style=\"color: #00af00; text-decoration-color: #00af00\">10</span>)                  │             <span style=\"color: #00af00; text-decoration-color: #00af00\">330</span> │\n",
              "├──────────────────────────────────────┼─────────────────────────────┼─────────────────┤\n",
              "│ dense_5 (<span style=\"color: #0087ff; text-decoration-color: #0087ff\">Dense</span>)                      │ (<span style=\"color: #00d7ff; text-decoration-color: #00d7ff\">None</span>, <span style=\"color: #00af00; text-decoration-color: #00af00\">1</span>)                   │              <span style=\"color: #00af00; text-decoration-color: #00af00\">11</span> │\n",
              "└──────────────────────────────────────┴─────────────────────────────┴─────────────────┘\n",
              "</pre>\n"
            ],
            "text/plain": [
              "┏━━━━━━━━━━━━━━━━━━━━━━━━━━━━━━━━━━━━━━┳━━━━━━━━━━━━━━━━━━━━━━━━━━━━━┳━━━━━━━━━━━━━━━━━┓\n",
              "┃\u001b[1m \u001b[0m\u001b[1mLayer (type)                        \u001b[0m\u001b[1m \u001b[0m┃\u001b[1m \u001b[0m\u001b[1mOutput Shape               \u001b[0m\u001b[1m \u001b[0m┃\u001b[1m \u001b[0m\u001b[1m        Param #\u001b[0m\u001b[1m \u001b[0m┃\n",
              "┡━━━━━━━━━━━━━━━━━━━━━━━━━━━━━━━━━━━━━━╇━━━━━━━━━━━━━━━━━━━━━━━━━━━━━╇━━━━━━━━━━━━━━━━━┩\n",
              "│ lstm (\u001b[38;5;33mLSTM\u001b[0m)                          │ (\u001b[38;5;45mNone\u001b[0m, \u001b[38;5;34m32\u001b[0m)                  │           \u001b[38;5;34m4,352\u001b[0m │\n",
              "├──────────────────────────────────────┼─────────────────────────────┼─────────────────┤\n",
              "│ dropout_2 (\u001b[38;5;33mDropout\u001b[0m)                  │ (\u001b[38;5;45mNone\u001b[0m, \u001b[38;5;34m32\u001b[0m)                  │               \u001b[38;5;34m0\u001b[0m │\n",
              "├──────────────────────────────────────┼─────────────────────────────┼─────────────────┤\n",
              "│ dense_4 (\u001b[38;5;33mDense\u001b[0m)                      │ (\u001b[38;5;45mNone\u001b[0m, \u001b[38;5;34m10\u001b[0m)                  │             \u001b[38;5;34m330\u001b[0m │\n",
              "├──────────────────────────────────────┼─────────────────────────────┼─────────────────┤\n",
              "│ dense_5 (\u001b[38;5;33mDense\u001b[0m)                      │ (\u001b[38;5;45mNone\u001b[0m, \u001b[38;5;34m1\u001b[0m)                   │              \u001b[38;5;34m11\u001b[0m │\n",
              "└──────────────────────────────────────┴─────────────────────────────┴─────────────────┘\n"
            ]
          },
          "metadata": {},
          "output_type": "display_data"
        },
        {
          "data": {
            "text/html": [
              "<pre style=\"white-space:pre;overflow-x:auto;line-height:normal;font-family:Menlo,'DejaVu Sans Mono',consolas,'Courier New',monospace\"><span style=\"font-weight: bold\"> Total params: </span><span style=\"color: #00af00; text-decoration-color: #00af00\">4,693</span> (18.33 KB)\n",
              "</pre>\n"
            ],
            "text/plain": [
              "\u001b[1m Total params: \u001b[0m\u001b[38;5;34m4,693\u001b[0m (18.33 KB)\n"
            ]
          },
          "metadata": {},
          "output_type": "display_data"
        },
        {
          "data": {
            "text/html": [
              "<pre style=\"white-space:pre;overflow-x:auto;line-height:normal;font-family:Menlo,'DejaVu Sans Mono',consolas,'Courier New',monospace\"><span style=\"font-weight: bold\"> Trainable params: </span><span style=\"color: #00af00; text-decoration-color: #00af00\">4,693</span> (18.33 KB)\n",
              "</pre>\n"
            ],
            "text/plain": [
              "\u001b[1m Trainable params: \u001b[0m\u001b[38;5;34m4,693\u001b[0m (18.33 KB)\n"
            ]
          },
          "metadata": {},
          "output_type": "display_data"
        },
        {
          "data": {
            "text/html": [
              "<pre style=\"white-space:pre;overflow-x:auto;line-height:normal;font-family:Menlo,'DejaVu Sans Mono',consolas,'Courier New',monospace\"><span style=\"font-weight: bold\"> Non-trainable params: </span><span style=\"color: #00af00; text-decoration-color: #00af00\">0</span> (0.00 B)\n",
              "</pre>\n"
            ],
            "text/plain": [
              "\u001b[1m Non-trainable params: \u001b[0m\u001b[38;5;34m0\u001b[0m (0.00 B)\n"
            ]
          },
          "metadata": {},
          "output_type": "display_data"
        },
        {
          "name": "stdout",
          "output_type": "stream",
          "text": [
            "None\n"
          ]
        },
        {
          "name": "stderr",
          "output_type": "stream",
          "text": [
            "/usr/local/lib/python3.11/dist-packages/keras/src/layers/core/dense.py:87: UserWarning: Do not pass an `input_shape`/`input_dim` argument to a layer. When using Sequential models, prefer using an `Input(shape)` object as the first layer in the model instead.\n",
            "  super().__init__(activity_regularizer=activity_regularizer, **kwargs)\n"
          ]
        },
        {
          "data": {
            "text/html": [
              "<pre style=\"white-space:pre;overflow-x:auto;line-height:normal;font-family:Menlo,'DejaVu Sans Mono',consolas,'Courier New',monospace\"><span style=\"font-weight: bold\">Model: \"sequential_3\"</span>\n",
              "</pre>\n"
            ],
            "text/plain": [
              "\u001b[1mModel: \"sequential_3\"\u001b[0m\n"
            ]
          },
          "metadata": {},
          "output_type": "display_data"
        },
        {
          "data": {
            "text/html": [
              "<pre style=\"white-space:pre;overflow-x:auto;line-height:normal;font-family:Menlo,'DejaVu Sans Mono',consolas,'Courier New',monospace\">┏━━━━━━━━━━━━━━━━━━━━━━━━━━━━━━━━━━━━━━┳━━━━━━━━━━━━━━━━━━━━━━━━━━━━━┳━━━━━━━━━━━━━━━━━┓\n",
              "┃<span style=\"font-weight: bold\"> Layer (type)                         </span>┃<span style=\"font-weight: bold\"> Output Shape                </span>┃<span style=\"font-weight: bold\">         Param # </span>┃\n",
              "┡━━━━━━━━━━━━━━━━━━━━━━━━━━━━━━━━━━━━━━╇━━━━━━━━━━━━━━━━━━━━━━━━━━━━━╇━━━━━━━━━━━━━━━━━┩\n",
              "│ dense_6 (<span style=\"color: #0087ff; text-decoration-color: #0087ff\">Dense</span>)                      │ (<span style=\"color: #00d7ff; text-decoration-color: #00d7ff\">None</span>, <span style=\"color: #00af00; text-decoration-color: #00af00\">2</span>)                   │             <span style=\"color: #00af00; text-decoration-color: #00af00\">166</span> │\n",
              "├──────────────────────────────────────┼─────────────────────────────┼─────────────────┤\n",
              "│ dense_7 (<span style=\"color: #0087ff; text-decoration-color: #0087ff\">Dense</span>)                      │ (<span style=\"color: #00d7ff; text-decoration-color: #00d7ff\">None</span>, <span style=\"color: #00af00; text-decoration-color: #00af00\">1</span>)                   │               <span style=\"color: #00af00; text-decoration-color: #00af00\">3</span> │\n",
              "└──────────────────────────────────────┴─────────────────────────────┴─────────────────┘\n",
              "</pre>\n"
            ],
            "text/plain": [
              "┏━━━━━━━━━━━━━━━━━━━━━━━━━━━━━━━━━━━━━━┳━━━━━━━━━━━━━━━━━━━━━━━━━━━━━┳━━━━━━━━━━━━━━━━━┓\n",
              "┃\u001b[1m \u001b[0m\u001b[1mLayer (type)                        \u001b[0m\u001b[1m \u001b[0m┃\u001b[1m \u001b[0m\u001b[1mOutput Shape               \u001b[0m\u001b[1m \u001b[0m┃\u001b[1m \u001b[0m\u001b[1m        Param #\u001b[0m\u001b[1m \u001b[0m┃\n",
              "┡━━━━━━━━━━━━━━━━━━━━━━━━━━━━━━━━━━━━━━╇━━━━━━━━━━━━━━━━━━━━━━━━━━━━━╇━━━━━━━━━━━━━━━━━┩\n",
              "│ dense_6 (\u001b[38;5;33mDense\u001b[0m)                      │ (\u001b[38;5;45mNone\u001b[0m, \u001b[38;5;34m2\u001b[0m)                   │             \u001b[38;5;34m166\u001b[0m │\n",
              "├──────────────────────────────────────┼─────────────────────────────┼─────────────────┤\n",
              "│ dense_7 (\u001b[38;5;33mDense\u001b[0m)                      │ (\u001b[38;5;45mNone\u001b[0m, \u001b[38;5;34m1\u001b[0m)                   │               \u001b[38;5;34m3\u001b[0m │\n",
              "└──────────────────────────────────────┴─────────────────────────────┴─────────────────┘\n"
            ]
          },
          "metadata": {},
          "output_type": "display_data"
        },
        {
          "data": {
            "text/html": [
              "<pre style=\"white-space:pre;overflow-x:auto;line-height:normal;font-family:Menlo,'DejaVu Sans Mono',consolas,'Courier New',monospace\"><span style=\"font-weight: bold\"> Total params: </span><span style=\"color: #00af00; text-decoration-color: #00af00\">169</span> (676.00 B)\n",
              "</pre>\n"
            ],
            "text/plain": [
              "\u001b[1m Total params: \u001b[0m\u001b[38;5;34m169\u001b[0m (676.00 B)\n"
            ]
          },
          "metadata": {},
          "output_type": "display_data"
        },
        {
          "data": {
            "text/html": [
              "<pre style=\"white-space:pre;overflow-x:auto;line-height:normal;font-family:Menlo,'DejaVu Sans Mono',consolas,'Courier New',monospace\"><span style=\"font-weight: bold\"> Trainable params: </span><span style=\"color: #00af00; text-decoration-color: #00af00\">169</span> (676.00 B)\n",
              "</pre>\n"
            ],
            "text/plain": [
              "\u001b[1m Trainable params: \u001b[0m\u001b[38;5;34m169\u001b[0m (676.00 B)\n"
            ]
          },
          "metadata": {},
          "output_type": "display_data"
        },
        {
          "data": {
            "text/html": [
              "<pre style=\"white-space:pre;overflow-x:auto;line-height:normal;font-family:Menlo,'DejaVu Sans Mono',consolas,'Courier New',monospace\"><span style=\"font-weight: bold\"> Non-trainable params: </span><span style=\"color: #00af00; text-decoration-color: #00af00\">0</span> (0.00 B)\n",
              "</pre>\n"
            ],
            "text/plain": [
              "\u001b[1m Non-trainable params: \u001b[0m\u001b[38;5;34m0\u001b[0m (0.00 B)\n"
            ]
          },
          "metadata": {},
          "output_type": "display_data"
        },
        {
          "name": "stdout",
          "output_type": "stream",
          "text": [
            "None\n",
            "Epoch 1/10\n",
            "\u001b[1m8801/8801\u001b[0m \u001b[32m━━━━━━━━━━━━━━━━━━━━\u001b[0m\u001b[37m\u001b[0m \u001b[1m323s\u001b[0m 36ms/step - accuracy: 0.9543 - loss: 0.1155 - val_accuracy: 0.9946 - val_loss: 0.0223\n",
            "Epoch 2/10\n",
            "\u001b[1m8801/8801\u001b[0m \u001b[32m━━━━━━━━━━━━━━━━━━━━\u001b[0m\u001b[37m\u001b[0m \u001b[1m283s\u001b[0m 32ms/step - accuracy: 0.9933 - loss: 0.0233 - val_accuracy: 0.9955 - val_loss: 0.0160\n",
            "Epoch 3/10\n",
            "\u001b[1m3115/8801\u001b[0m \u001b[32m━━━━━━━\u001b[0m\u001b[37m━━━━━━━━━━━━━\u001b[0m \u001b[1m2:52\u001b[0m 30ms/step - accuracy: 0.9963 - loss: 0.0137"
          ]
        }
      ],
      "source": [
        "input_size = X_train.shape[1]  # Some models expect just feature size\n",
        "\n",
        "model_gru = GRU_model(input_size)\n",
        "model_cnn = CNN_model(input_size)\n",
        "model_lstm = LSTM_model(input_size)\n",
        "model_dnn = DNN_model(input_size)\n",
        "\n",
        "model_gru.compile(loss='binary_crossentropy', optimizer='adam', metrics=['accuracy'])\n",
        "model_cnn.compile(loss='binary_crossentropy', optimizer='adam', metrics=['accuracy'])\n",
        "model_lstm.compile(loss='binary_crossentropy', optimizer='adam', metrics=['accuracy'])\n",
        "model_dnn.compile(loss='binary_crossentropy', optimizer='adam', metrics=['accuracy'])\n",
        "\n",
        "model_svm = SVM()\n",
        "model_lr = LR()\n",
        "model_gd = GD()\n",
        "model_knn = kNN()\n",
        "\n",
        "model_gru = compile_train(model_gru, format_3d(X_train), y_train)\n",
        "model_cnn = compile_train(model_cnn, format_3d(X_train), y_train)\n",
        "model_lstm = compile_train(model_lstm, format_3d(X_train), y_train)\n",
        "model_dnn = compile_train(model_dnn, X_train, y_train)\n"
      ]
    },
    {
      "cell_type": "code",
      "execution_count": null,
      "metadata": {
        "colab": {
          "base_uri": "https://localhost:8080/",
          "height": 509
        },
        "id": "1VxcanJyu0F1",
        "outputId": "7e8c2afd-7eac-4f23-d341-1382ac9d49f2"
      },
      "outputs": [
        {
          "data": {
            "image/png": "[encoded data removed]",
            "text/plain": [
              "<Figure size 640x480 with 1 Axes>"
            ]
          },
          "metadata": {},
          "output_type": "display_data"
        },
        {
          "name": "stdout",
          "output_type": "stream",
          "text": [
            "Training Accuracy: 0.9904\n",
            "Validation Accuracy: 0.9903\n"
          ]
        }
      ],
      "source": [
        "scaler = StandardScaler()\n",
        "X_train_scaled = scaler.fit_transform(X_train)\n",
        "X_test_scaled = scaler.transform(X_test)\n",
        "\n",
        "X_train_final, X_val, y_train_final, y_val = train_test_split(X_train_scaled, y_train, test_size=0.2, random_state=42)\n",
        "\n",
        "model_lr = LogisticRegression(\n",
        "    max_iter=1000,  # More iterations to improve convergence\n",
        "    solver='saga',  # Best for large datasets\n",
        "    tol=1e-3,  # Stops early if model is close to convergence\n",
        "    n_jobs=-1\n",
        ")\n",
        "\n",
        "model_lr.fit(X_train_final, y_train_final)\n",
        "\n",
        "train_acc = accuracy_score(y_train_final, model_lr.predict(X_train_final))\n",
        "val_acc = accuracy_score(y_val, model_lr.predict(X_val))\n",
        "\n",
        "plt.plot([0, 1], [train_acc, val_acc], marker='o', linestyle='-', color='blue', label=\"Training vs Validation Accuracy\")\n",
        "plt.xticks([0, 1], [\"Training\", \"Validation\"])\n",
        "plt.ylim(0, 1)\n",
        "plt.ylabel(\"Accuracy\")\n",
        "plt.title(\"Logistic Regression Accuracy\")\n",
        "plt.legend()\n",
        "plt.show()\n",
        "\n",
        "print(f\"Training Accuracy: {train_acc:.4f}\")\n",
        "print(f\"Validation Accuracy: {val_acc:.4f}\")"
      ]
    },
    {
      "cell_type": "code",
      "execution_count": null,
      "metadata": {
        "colab": {
          "base_uri": "https://localhost:8080/",
          "height": 509
        },
        "id": "s0mvcBr-vRBZ",
        "outputId": "d421c2df-f607-47b7-f37e-125fd763d7e6"
      },
      "outputs": [
        {
          "data": {
            "image/png": "[encoded data removed]",
            "text/plain": [
              "<Figure size 640x480 with 1 Axes>"
            ]
          },
          "metadata": {},
          "output_type": "display_data"
        },
        {
          "name": "stdout",
          "output_type": "stream",
          "text": [
            "Training Accuracy: 0.7404\n",
            "Validation Accuracy: 0.7408\n"
          ]
        }
      ],
      "source": [
        "X_train_final, X_val, y_train_final, y_val = train_test_split(X_train, y_train, test_size=0.2, random_state=42)\n",
        "\n",
        "model_gd.fit(X_train_final, y_train_final)\n",
        "\n",
        "train_acc = accuracy_score(y_train_final, model_gd.predict(X_train_final))\n",
        "val_acc = accuracy_score(y_val, model_gd.predict(X_val))\n",
        "\n",
        "plt.plot([0, 1], [train_acc, val_acc], marker='o', linestyle='-', color='blue', label=\"Training vs Validation Accuracy\")\n",
        "plt.xticks([0, 1], [\"Training\", \"Validation\"])\n",
        "plt.ylim(0, 1)\n",
        "plt.ylabel(\"Accuracy\")\n",
        "plt.title(\"Gradient Descent Model Accuracy\")\n",
        "plt.legend()\n",
        "plt.show()\n",
        "\n",
        "print(f\"Training Accuracy: {train_acc:.4f}\")\n",
        "print(f\"Validation Accuracy: {val_acc:.4f}\")\n"
      ]
    },
    {
      "cell_type": "code",
      "execution_count": null,
      "metadata": {
        "id": "jOqEejg58IAu"
      },
      "outputs": [],
      "source": [
        "X_train_final, X_val, y_train_final, y_val = train_test_split(X_train, y_train, test_size=0.2, random_state=42)\n",
        "\n",
        "model_svm = SVC(\n",
        "    kernel='linear',  # Linear kernel is much faster than RBF\n",
        "    C=1.0,  # Regularization parameter, lower values make training faster\n",
        "    cache_size=500  # Increases memory cache to speed up computation\n",
        ")\n",
        "\n",
        "model_svm.fit(X_train_final, y_train_final)\n",
        "\n",
        "train_acc = accuracy_score(y_train_final, model_svm.predict(X_train_final))\n",
        "val_acc = accuracy_score(y_val, model_svm.predict(X_val))\n",
        "\n",
        "plt.plot([0, 1], [train_acc, val_acc], marker='o', linestyle='-', color='blue', label=\"Training vs Validation Accuracy\")\n",
        "plt.xticks([0, 1], [\"Training\", \"Validation\"])\n",
        "plt.ylim(0, 1)\n",
        "plt.ylabel(\"Accuracy\")\n",
        "plt.title(\"SVM Accuracy\")\n",
        "plt.legend()\n",
        "plt.show()\n",
        "\n",
        "print(f\"Training Accuracy: {train_acc:.4f}\")\n",
        "print(f\"Validation Accuracy: {val_acc:.4f}\")"
      ]
    },
    {
      "cell_type": "code",
      "execution_count": null,
      "metadata": {
        "colab": {
          "base_uri": "https://localhost:8080/",
          "height": 840
        },
        "id": "Rj5YNSxoHQaq",
        "outputId": "cf03c567-75cc-44fb-faa0-9d724d9170d8"
      },
      "outputs": [
        {
          "data": {
            "image/png": "[encoded data removed]",
            "text/plain": [
              "<Figure size 600x400 with 1 Axes>"
            ]
          },
          "metadata": {},
          "output_type": "display_data"
        },
        {
          "name": "stdout",
          "output_type": "stream",
          "text": [
            "Training Accuracy: 0.9911\n",
            "Validation Accuracy: 0.9909\n",
            "Dataset has more than 2 features. Applying PCA to visualize decision boundary.\n"
          ]
        },
        {
          "data": {
            "image/png": "[encoded data removed]",
            "text/plain": [
              "<Figure size 600x400 with 1 Axes>"
            ]
          },
          "metadata": {},
          "output_type": "display_data"
        }
      ],
      "source": [
        "scaler = StandardScaler()\n",
        "X_train_scaled = scaler.fit_transform(X_train)\n",
        "X_test_scaled = scaler.transform(X_test)\n",
        "X_train_final, X_val, y_train_final, y_val = train_test_split(\n",
        "    X_train_scaled, y_train, test_size=0.2, random_state=42\n",
        ")\n",
        "\n",
        "model_svm = SGDClassifier(\n",
        "    loss='hinge',  # Hinge loss for SVM-like behavior\n",
        "    max_iter=1000,\n",
        "    learning_rate='adaptive',\n",
        "    eta0=0.01,\n",
        "    tol=1e-3,\n",
        "    n_jobs=-1\n",
        ")\n",
        "\n",
        "model_svm.fit(X_train_final, y_train_final)\n",
        "\n",
        "train_acc = accuracy_score(y_train_final, model_svm.predict(X_train_final))\n",
        "val_acc = accuracy_score(y_val, model_svm.predict(X_val))\n",
        "\n",
        "plt.figure(figsize=(6, 4))\n",
        "plt.plot([0, 1], [train_acc, val_acc], marker='o', linestyle='-', color='blue', label=\"Training vs Validation Accuracy\")\n",
        "plt.xticks([0, 1], [\"Training\", \"Validation\"])\n",
        "plt.ylim(0, 1)\n",
        "plt.ylabel(\"Accuracy\")\n",
        "plt.title(\"SGD Classifier Accuracy\")\n",
        "plt.legend()\n",
        "plt.show()\n",
        "\n",
        "print(f\"Training Accuracy: {train_acc:.4f}\")\n",
        "print(f\"Validation Accuracy: {val_acc:.4f}\")\n",
        "\n",
        "if X_train_final.shape[1] == 2:\n",
        "    x_min, x_max = X_train_final[:, 0].min() - 1, X_train_final[:, 0].max() + 1\n",
        "    y_min, y_max = X_train_final[:, 1].min() - 1, X_train_final[:, 1].max() + 1\n",
        "    xx, yy = np.meshgrid(np.linspace(x_min, x_max, 100), np.linspace(y_min, y_max, 100))\n",
        "\n",
        "    Z = model_svm.predict(np.c_[xx.ravel(), yy.ravel()])\n",
        "    Z = Z.reshape(xx.shape)\n",
        "\n",
        "    plt.figure(figsize=(6, 4))\n",
        "    plt.contourf(xx, yy, Z, alpha=0.3)\n",
        "    plt.scatter(X_train_final[:, 0], X_train_final[:, 1], c=y_train_final, edgecolors='k')\n",
        "    plt.title(\"SGD Classifier Decision Boundary\")\n",
        "    plt.show()\n",
        "\n",
        "elif X_train_final.shape[1] > 2:\n",
        "    print(\"Dataset has more than 2 features. Applying PCA to visualize decision boundary.\")\n",
        "    pca = PCA(n_components=2)\n",
        "    X_train_pca = pca.fit_transform(X_train_final)\n",
        "    X_val_pca = pca.transform(X_val)\n",
        "\n",
        "    model_svm.fit(X_train_pca, y_train_final)\n",
        "\n",
        "    x_min, x_max = X_train_pca[:, 0].min() - 1, X_train_pca[:, 0].max() + 1\n",
        "    y_min, y_max = X_train_pca[:, 1].min() - 1, X_train_pca[:, 1].max() + 1\n",
        "    xx, yy = np.meshgrid(np.linspace(x_min, x_max, 100), np.linspace(y_min, y_max, 100))\n",
        "\n",
        "    Z = model_svm.predict(np.c_[xx.ravel(), yy.ravel()])\n",
        "    Z = Z.reshape(xx.shape)\n",
        "\n",
        "    plt.figure(figsize=(6, 4))\n",
        "    plt.contourf(xx, yy, Z, alpha=0.3)\n",
        "    plt.scatter(X_train_pca[:, 0], X_train_pca[:, 1], c=y_train_final, edgecolors='k')\n",
        "    plt.title(\"SGD Classifier Decision Boundary (PCA Reduced)\")\n",
        "    plt.show()"
      ]
    },
    {
      "cell_type": "code",
      "execution_count": null,
      "metadata": {
        "id": "1fINMw2O8BGJ"
      },
      "outputs": [],
      "source": [
        "results = pd.DataFrame(columns=['Method','Accuracy','Precision','Recall', 'F1_Score', 'Average','Normal_Detect_Rate','Atk_Detect_Rate'])"
      ]
    },
    {
      "cell_type": "markdown",
      "metadata": {
        "id": "mjw7W_l98BGJ"
      },
      "source": [
        "### GRU"
      ]
    },
    {
      "cell_type": "code",
      "execution_count": null,
      "metadata": {
        "colab": {
          "base_uri": "https://localhost:8080/"
        },
        "id": "mqlzEpahMGTl",
        "outputId": "ac77b249-74e4-4c63-a341-b51be3612f25"
      },
      "outputs": [
        {
          "name": "stdout",
          "output_type": "stream",
          "text": [
            "Formatted X_test shape: (53101, 82, 1)\n",
            "\u001b[1m1660/1660\u001b[0m \u001b[32m━━━━━━━━━━━━━━━━━━━━\u001b[0m\u001b[37m\u001b[0m \u001b[1m15s\u001b[0m 9ms/step\n",
            "y_pred shape: (53101,), dtype: int64\n",
            "y_test shape: (53101,), dtype: int64\n",
            "X_test_3d type: <class 'numpy.ndarray'>, shape: (53101, 82, 1)\n",
            "Skipping duplicate GRU entry\n",
            "  Method  Accuracy  Precision  F1_Score    Recall   Average  \\\n",
            "0    GRU  0.996535   0.999681  0.997906  0.996137  0.997564   \n",
            "1    GRU  0.996535   0.999681  0.997906  0.996137  0.997564   \n",
            "\n",
            "   Normal_Detect_Rate  Atk_Detect_Rate  \n",
            "0          -13.021576         0.996137  \n",
            "1            0.000000         0.996137  \n"
          ]
        },
        {
          "name": "stderr",
          "output_type": "stream",
          "text": [
            "<ipython-input-20-ee85432be9d4>:11: FutureWarning: Series.__getitem__ treating keys as positions is deprecated. In a future version, integer keys will always be treated as labels (consistent with DataFrame behavior). To access a value by position, use `ser.iloc[pos]`\n",
            "  normal_detect_rate = (normal - wrong.groupby('y_test').count().iloc[0][0]) / normal\n",
            "<ipython-input-20-ee85432be9d4>:12: FutureWarning: Series.__getitem__ treating keys as positions is deprecated. In a future version, integer keys will always be treated as labels (consistent with DataFrame behavior). To access a value by position, use `ser.iloc[pos]`\n",
            "  atk_detect_rate = (atk - wrong.groupby('y_test').count().iloc[1][0]) / atk\n"
          ]
        }
      ],
      "source": [
        "if 'results' not in locals():\n",
        "    results = pd.DataFrame(columns=['Method', 'Accuracy', 'Precision', 'F1_Score',\n",
        "                                    'Recall', 'Average', 'Normal_Detect_Rate', 'Atk_Detect_Rate'])\n",
        "\n",
        "X_test_3d = format_3d(X_test)\n",
        "\n",
        "print(f\"Formatted X_test shape: {X_test_3d.shape}\")\n",
        "\n",
        "y_pred = model_gru.predict(X_test_3d)\n",
        "y_pred = np.round(y_pred).astype(int).squeeze()  # Convert to integers and flatten\n",
        "\n",
        "y_test = np.array(y_test)\n",
        "\n",
        "print(f\"y_pred shape: {y_pred.shape}, dtype: {y_pred.dtype}\")\n",
        "print(f\"y_test shape: {y_test.shape}, dtype: {y_test.dtype}\")\n",
        "print(f\"X_test_3d type: {type(X_test_3d)}, shape: {X_test_3d.shape}\")\n",
        "\n",
        "acc, prec, rec, f1, avrg = tests(model_gru, X_test_3d, y_test, y_pred)\n",
        "\n",
        "norm, atk = test_normal_atk(y_test, y_pred)\n",
        "\n",
        "wrong = pd.DataFrame({'y_test': y_test, 'y_pred': y_pred})\n",
        "wrong = wrong[wrong['y_test'] != wrong['y_pred']]\n",
        "\n",
        "wrong_counts = wrong.groupby('y_test').size()\n",
        "\n",
        "normal_misclassified = wrong_counts.get(0, 0)\n",
        "attack_misclassified = wrong_counts.get(1, 0)\n",
        "\n",
        "normal_detect_rate = max(0, 1 - (normal_misclassified / max(1, norm)))\n",
        "atk_detect_rate = max(0, (atk - attack_misclassified) / max(1, atk))\n",
        "\n",
        "new_result = pd.DataFrame([{\n",
        "    'Method': 'GRU',\n",
        "    'Accuracy': acc,\n",
        "    'Precision': prec,\n",
        "    'F1_Score': f1,\n",
        "    'Recall': rec,\n",
        "    'Average': avrg,\n",
        "    'Normal_Detect_Rate': normal_detect_rate,\n",
        "    'Atk_Detect_Rate': atk\n",
        "}])\n",
        "\n",
        "if not results[(results['Method'] == 'GRU') & (results['Accuracy'] == acc)].empty:\n",
        "    print(\"Skipping duplicate GRU entry\")\n",
        "else:\n",
        "    results = pd.concat([results, new_result], ignore_index=True)\n",
        "\n",
        "print(results)\n"
      ]
    },
    {
      "cell_type": "code",
      "execution_count": null,
      "metadata": {
        "id": "LsbNp2nl8BGJ",
        "outputId": "912e376c-e2eb-4f7a-c242-487c3a6dcf40"
      },
      "outputs": [
        {
          "name": "stdout",
          "output_type": "stream",
          "text": [
            "298578/298578 [==============================] - 76s 253us/step\n",
            "[0.01105657341191673, 0.9985832847698088]\n",
            "\n",
            "Accuracy\n",
            "0.9985832847698088\n",
            "\n",
            "Precision\n",
            "0.9995093228655545\n",
            "\n",
            "Recall\n",
            "0.9987902658601773\n",
            "\n",
            "F1 Score\n",
            "0.9991496649921299\n",
            "\n",
            "Average (acc, prec, rec, f1)\n",
            "0.9990081346219176\n"
          ]
        }
      ],
      "source": [
        "y_pred = model_gru.predict(format_3d(X_test))\n",
        "\n",
        "y_pred = y_pred.round()\n",
        "\n",
        "acc, prec, rec, f1, avrg = testes(model_gru,format_3d(X_test),y_test,y_pred)\n",
        "\n",
        "norm, atk = test_normal_atk(y_test,y_pred)\n",
        "\n",
        "results = results.append({'Method':'GRU', 'Accuracy':acc, 'Precision':prec, 'F1_Score':f1,\n",
        "                          'Recall':rec,'Average':avrg, 'Normal_Detect_Rate':norm, 'Atk_Detect_Rate':atk}, ignore_index=True)"
      ]
    },
    {
      "cell_type": "markdown",
      "metadata": {
        "id": "wFsNjiav8BGJ"
      },
      "source": [
        "### CNN"
      ]
    },
    {
      "cell_type": "code",
      "execution_count": null,
      "metadata": {
        "colab": {
          "base_uri": "https://localhost:8080/"
        },
        "id": "YN1TxHSU8BGJ",
        "outputId": "34bd7c48-e19c-4cf6-cbec-d98ac1b6ec24"
      },
      "outputs": [
        {
          "name": "stdout",
          "output_type": "stream",
          "text": [
            "Formatted X_test shape: (53101, 82, 1)\n",
            "\u001b[1m1660/1660\u001b[0m \u001b[32m━━━━━━━━━━━━━━━━━━━━\u001b[0m\u001b[37m\u001b[0m \u001b[1m6s\u001b[0m 4ms/step\n",
            "y_pred shape: (53101,), dtype: int64\n",
            "y_test shape: (53101,), dtype: int64\n",
            "X_test_3d type: <class 'numpy.ndarray'>, shape: (53101, 82, 1)\n",
            "Unique predicted labels: {0: 46754, 1: 6347}\n",
            "  Method  Accuracy  Precision  F1_Score    Recall   Average  \\\n",
            "0    GRU  0.996535   0.999681  0.997906  0.996137  0.997564   \n",
            "1    GRU  0.996535   0.999681  0.997906  0.996137  0.997564   \n",
            "2    CNN  0.000000   0.000000  0.000000  0.000000  0.000000   \n",
            "3    CNN  0.290258   0.997479  0.251480  0.143877  0.420773   \n",
            "\n",
            "   Normal_Detect_Rate  Atk_Detect_Rate  \n",
            "0          -13.021576         0.996137  \n",
            "1            0.000000         0.996137  \n",
            "2            0.000000         0.000000  \n",
            "3            0.000000         0.143877  \n"
          ]
        },
        {
          "name": "stderr",
          "output_type": "stream",
          "text": [
            "<ipython-input-20-ee85432be9d4>:11: FutureWarning: Series.__getitem__ treating keys as positions is deprecated. In a future version, integer keys will always be treated as labels (consistent with DataFrame behavior). To access a value by position, use `ser.iloc[pos]`\n",
            "  normal_detect_rate = (normal - wrong.groupby('y_test').count().iloc[0][0]) / normal\n",
            "<ipython-input-20-ee85432be9d4>:12: FutureWarning: Series.__getitem__ treating keys as positions is deprecated. In a future version, integer keys will always be treated as labels (consistent with DataFrame behavior). To access a value by position, use `ser.iloc[pos]`\n",
            "  atk_detect_rate = (atk - wrong.groupby('y_test').count().iloc[1][0]) / atk\n"
          ]
        }
      ],
      "source": [
        "import numpy as np\n",
        "import pandas as pd\n",
        "\n",
        "if 'results' not in locals():\n",
        "    results = pd.DataFrame(columns=['Method', 'Accuracy', 'Precision', 'F1_Score',\n",
        "                                    'Recall', 'Average', 'Normal_Detect_Rate', 'Atk_Detect_Rate'])\n",
        "\n",
        "X_test_3d = format_3d(X_test)\n",
        "\n",
        "print(f\"Formatted X_test shape: {X_test_3d.shape}\")\n",
        "\n",
        "y_pred = model_cnn.predict(X_test_3d)\n",
        "y_pred = np.round(y_pred).astype(int).squeeze()  # Convert to integers and flatten\n",
        "\n",
        "y_test = np.array(y_test)\n",
        "\n",
        "print(f\"y_pred shape: {y_pred.shape}, dtype: {y_pred.dtype}\")\n",
        "print(f\"y_test shape: {y_test.shape}, dtype: {y_test.dtype}\")\n",
        "print(f\"X_test_3d type: {type(X_test_3d)}, shape: {X_test_3d.shape}\")\n",
        "\n",
        "unique, counts = np.unique(y_pred, return_counts=True)\n",
        "print(f\"Unique predicted labels: {dict(zip(unique, counts))}\")\n",
        "\n",
        "if len(unique) == 1:\n",
        "    acc, prec, rec, f1, avrg = 0, 0, 0, 0, 0  # No meaningful results\n",
        "    print(\"CNN model predicted only one class. Setting metrics to 0.\")\n",
        "else:\n",
        "    acc, prec, rec, f1, avrg = testes(model_cnn, X_test_3d, y_test, y_pred)\n",
        "\n",
        "if 0 in y_pred and 1 in y_pred:\n",
        "    norm, atk = test_normal_atk(y_test, y_pred)\n",
        "else:\n",
        "    norm, atk = 0, 0  # Default to 0 if no attacks were predicted\n",
        "    print(\"Warning: CNN model predicted only one class. Normal and Attack Detection Rates set to 0.\")\n",
        "\n",
        "wrong = pd.DataFrame({'y_test': y_test, 'y_pred': y_pred})\n",
        "wrong = wrong[wrong['y_test'] != wrong['y_pred']]\n",
        "\n",
        "wrong_counts = wrong.groupby('y_test').size()\n",
        "\n",
        "normal_misclassified = wrong_counts.get(0, 0)\n",
        "attack_misclassified = wrong_counts.get(1, 0)\n",
        "\n",
        "normal_detect_rate = max(0, (norm - normal_misclassified) / max(1, norm))\n",
        "atk_detect_rate = max(0, (atk - attack_misclassified) / max(1, atk))\n",
        "\n",
        "new_result = pd.DataFrame([{\n",
        "    'Method': 'CNN',\n",
        "    'Accuracy': acc,\n",
        "    'Precision': prec,\n",
        "    'F1_Score': f1,\n",
        "    'Recall': rec,\n",
        "    'Average': avrg,\n",
        "    'Normal_Detect_Rate': normal_detect_rate,\n",
        "    'Atk_Detect_Rate': atk\n",
        "}])\n",
        "\n",
        "if not results[(results['Method'] == 'CNN') & (results['Accuracy'] == acc)].empty:\n",
        "    print(\"Skipping duplicate CNN entry\")\n",
        "else:\n",
        "    results = pd.concat([results, new_result], ignore_index=True)\n",
        "\n",
        "print(results)\n"
      ]
    },
    {
      "cell_type": "code",
      "execution_count": null,
      "metadata": {
        "colab": {
          "base_uri": "https://localhost:8080/"
        },
        "id": "AFo--CcVWiTl",
        "outputId": "88d8a5c9-2322-414b-c564-b59fd644f0d0"
      },
      "outputs": [
        {
          "name": "stdout",
          "output_type": "stream",
          "text": [
            "Training Class Distribution: {0: 176010, 1: 176010}\n",
            "Test Class Distribution: {0: 9098, 1: 44003}\n"
          ]
        }
      ],
      "source": [
        "unique_train, counts_train = np.unique(y_train, return_counts=True)\n",
        "print(f\"Training Class Distribution: {dict(zip(unique_train, counts_train))}\")\n",
        "\n",
        "unique_test, counts_test = np.unique(y_test, return_counts=True)\n",
        "print(f\"Test Class Distribution: {dict(zip(unique_test, counts_test))}\")\n"
      ]
    },
    {
      "cell_type": "code",
      "execution_count": null,
      "metadata": {
        "colab": {
          "base_uri": "https://localhost:8080/"
        },
        "id": "xtMmKYm-Wngu",
        "outputId": "46633c9e-70b5-462c-9c79-5aba063b9194"
      },
      "outputs": [
        {
          "name": "stdout",
          "output_type": "stream",
          "text": [
            "X_train shape: (352020, 82)\n",
            "X_test_3d shape: (53101, 82, 1)\n"
          ]
        }
      ],
      "source": [
        "print(f\"X_train shape: {X_train.shape}\")\n",
        "print(f\"X_test_3d shape: {format_3d(X_test).shape}\")\n"
      ]
    },
    {
      "cell_type": "markdown",
      "metadata": {
        "id": "uC34QtGi8BGJ"
      },
      "source": [
        "### LSTM"
      ]
    },
    {
      "cell_type": "code",
      "execution_count": null,
      "metadata": {
        "colab": {
          "base_uri": "https://localhost:8080/"
        },
        "id": "NZEEPmqR0g3k",
        "outputId": "12f50754-52d9-4a03-e3bf-4572278d09bc"
      },
      "outputs": [
        {
          "name": "stdout",
          "output_type": "stream",
          "text": [
            "Formatted X_test shape: (53101, 82, 1)\n",
            "\u001b[1m1660/1660\u001b[0m \u001b[32m━━━━━━━━━━━━━━━━━━━━\u001b[0m\u001b[37m\u001b[0m \u001b[1m13s\u001b[0m 8ms/step\n",
            "y_pred shape: (53101,), dtype: int64\n",
            "y_test shape: (53101,), dtype: int64\n",
            "X_test_3d type: <class 'numpy.ndarray'>, shape: (53101, 82, 1)\n",
            "Unique predicted labels: {0: 9167, 1: 43934}\n",
            "  Method  Accuracy  Precision  F1_Score    Recall   Average  \\\n",
            "0    GRU  0.996535   0.999681  0.997906  0.996137  0.997564   \n",
            "1    GRU  0.996535   0.999681  0.997906  0.996137  0.997564   \n",
            "2    CNN  0.000000   0.000000  0.000000  0.000000  0.000000   \n",
            "3    CNN  0.290258   0.997479  0.251480  0.143877  0.420773   \n",
            "4   LSTM  0.998249   0.999727  0.998942  0.998159  0.998769   \n",
            "\n",
            "   Normal_Detect_Rate  Atk_Detect_Rate  \n",
            "0          -13.021576         0.996137  \n",
            "1            0.000000         0.996137  \n",
            "2            0.000000         0.000000  \n",
            "3            0.000000         0.143877  \n",
            "4            0.000000         0.998159  \n"
          ]
        },
        {
          "name": "stderr",
          "output_type": "stream",
          "text": [
            "<ipython-input-20-ee85432be9d4>:11: FutureWarning: Series.__getitem__ treating keys as positions is deprecated. In a future version, integer keys will always be treated as labels (consistent with DataFrame behavior). To access a value by position, use `ser.iloc[pos]`\n",
            "  normal_detect_rate = (normal - wrong.groupby('y_test').count().iloc[0][0]) / normal\n",
            "<ipython-input-20-ee85432be9d4>:12: FutureWarning: Series.__getitem__ treating keys as positions is deprecated. In a future version, integer keys will always be treated as labels (consistent with DataFrame behavior). To access a value by position, use `ser.iloc[pos]`\n",
            "  atk_detect_rate = (atk - wrong.groupby('y_test').count().iloc[1][0]) / atk\n"
          ]
        }
      ],
      "source": [
        "import numpy as np\n",
        "import pandas as pd\n",
        "\n",
        "if 'results' not in locals():\n",
        "    results = pd.DataFrame(columns=['Method', 'Accuracy', 'Precision', 'F1_Score',\n",
        "                                    'Recall', 'Average', 'Normal_Detect_Rate', 'Atk_Detect_Rate'])\n",
        "\n",
        "X_test_3d = format_3d(X_test)\n",
        "\n",
        "print(f\"Formatted X_test shape: {X_test_3d.shape}\")\n",
        "\n",
        "y_pred = model_lstm.predict(X_test_3d)\n",
        "y_pred = np.round(y_pred).astype(int).squeeze()  # Convert to integers and flatten\n",
        "\n",
        "y_test = np.array(y_test)\n",
        "\n",
        "print(f\"y_pred shape: {y_pred.shape}, dtype: {y_pred.dtype}\")\n",
        "print(f\"y_test shape: {y_test.shape}, dtype: {y_test.dtype}\")\n",
        "print(f\"X_test_3d type: {type(X_test_3d)}, shape: {X_test_3d.shape}\")\n",
        "\n",
        "unique, counts = np.unique(y_pred, return_counts=True)\n",
        "print(f\"Unique predicted labels: {dict(zip(unique, counts))}\")\n",
        "\n",
        "if len(unique) == 1:\n",
        "    acc, prec, rec, f1, avrg = 0, 0, 0, 0, 0  # No meaningful results\n",
        "    print(\"LSTM model predicted only one class. Setting metrics to 0.\")\n",
        "else:\n",
        "    acc, prec, rec, f1, avrg = testes(model_lstm, X_test_3d, y_test, y_pred)\n",
        "\n",
        "if 0 in y_pred and 1 in y_pred:\n",
        "    norm, atk = test_normal_atk(y_test, y_pred)\n",
        "else:\n",
        "    norm, atk = 0, 0  # Default to 0 if no attacks were predicted\n",
        "    print(\"Warning: LSTM model predicted only one class. Normal and Attack Detection Rates set to 0.\")\n",
        "\n",
        "wrong = pd.DataFrame({'y_test': y_test, 'y_pred': y_pred})\n",
        "wrong = wrong[wrong['y_test'] != wrong['y_pred']]\n",
        "\n",
        "wrong_counts = wrong.groupby('y_test').size()\n",
        "\n",
        "normal_misclassified = wrong_counts.get(0, 0)\n",
        "attack_misclassified = wrong_counts.get(1, 0)\n",
        "\n",
        "normal_detect_rate = max(0, (norm - normal_misclassified) / max(1, norm))\n",
        "atk_detect_rate = max(0, (atk - attack_misclassified) / max(1, atk))\n",
        "\n",
        "new_result = pd.DataFrame([{\n",
        "    'Method': 'LSTM',\n",
        "    'Accuracy': acc,\n",
        "    'Precision': prec,\n",
        "    'F1_Score': f1,\n",
        "    'Recall': rec,\n",
        "    'Average': avrg,\n",
        "    'Normal_Detect_Rate': normal_detect_rate,\n",
        "    'Atk_Detect_Rate': atk\n",
        "}])\n",
        "\n",
        "if not results[(results['Method'] == 'LSTM') & (results['Accuracy'] == acc)].empty:\n",
        "    print(\"Skipping duplicate LSTM entry\")\n",
        "else:\n",
        "    results = pd.concat([results, new_result], ignore_index=True)\n",
        "\n",
        "print(results)\n"
      ]
    },
    {
      "cell_type": "code",
      "execution_count": null,
      "metadata": {
        "id": "HNmyVwtG8BGJ",
        "outputId": "3348e073-e3a7-4f59-a0b8-423e35473bbc"
      },
      "outputs": [
        {
          "name": "stdout",
          "output_type": "stream",
          "text": [
            "298578/298578 [==============================] - 85s 283us/step\n",
            "[0.07657973352144937, 0.978297128388961]\n",
            "\n",
            "Accuracy\n",
            "0.9782971283885618\n",
            "\n",
            "Precision\n",
            "0.9991801691570573\n",
            "\n",
            "Recall\n",
            "0.9747563450756587\n",
            "\n",
            "F1 Score\n",
            "0.9868171572257439\n",
            "\n",
            "Average (acc, prec, rec, f1)\n",
            "0.9847626999617554\n"
          ]
        }
      ],
      "source": [
        "y_pred = model_lstm.predict(format_3d(X_test))\n",
        "\n",
        "y_pred = y_pred.round()\n",
        "\n",
        "acc, prec, rec, f1, avrg = testes(model_lstm,format_3d(X_test),y_test,y_pred)\n",
        "\n",
        "norm, atk = test_normal_atk(y_test,y_pred)\n",
        "\n",
        "results = results.append({'Method':'LSTM', 'Accuracy':acc, 'Precision':prec, 'F1_Score':f1,\n",
        "                          'Recall':rec,'Average':avrg, 'Normal_Detect_Rate':norm, 'Atk_Detect_Rate':atk}, ignore_index=True)"
      ]
    },
    {
      "cell_type": "markdown",
      "metadata": {
        "id": "ldCcZRpP8BGJ"
      },
      "source": [
        "### DNN"
      ]
    },
    {
      "cell_type": "code",
      "execution_count": null,
      "metadata": {
        "colab": {
          "base_uri": "https://localhost:8080/"
        },
        "id": "qycRQDJy2tu0",
        "outputId": "4459b821-cd2a-4e67-c045-02ac16923f55"
      },
      "outputs": [
        {
          "name": "stderr",
          "output_type": "stream",
          "text": [
            "/usr/local/lib/python3.11/dist-packages/keras/src/layers/core/dense.py:87: UserWarning: Do not pass an `input_shape`/`input_dim` argument to a layer. When using Sequential models, prefer using an `Input(shape)` object as the first layer in the model instead.\n",
            "  super().__init__(activity_regularizer=activity_regularizer, **kwargs)\n"
          ]
        },
        {
          "name": "stdout",
          "output_type": "stream",
          "text": [
            "Epoch 1/50\n",
            "\u001b[1m4401/4401\u001b[0m \u001b[32m━━━━━━━━━━━━━━━━━━━━\u001b[0m\u001b[37m\u001b[0m \u001b[1m21s\u001b[0m 4ms/step - accuracy: 0.7824 - loss: 0.4868 - val_accuracy: 0.4751 - val_loss: 21.4238\n",
            "Epoch 2/50\n",
            "\u001b[1m4401/4401\u001b[0m \u001b[32m━━━━━━━━━━━━━━━━━━━━\u001b[0m\u001b[37m\u001b[0m \u001b[1m17s\u001b[0m 4ms/step - accuracy: 0.8717 - loss: 0.3542 - val_accuracy: 0.8182 - val_loss: 16.4492\n",
            "Epoch 3/50\n",
            "\u001b[1m4401/4401\u001b[0m \u001b[32m━━━━━━━━━━━━━━━━━━━━\u001b[0m\u001b[37m\u001b[0m \u001b[1m17s\u001b[0m 4ms/step - accuracy: 0.8786 - loss: 0.3337 - val_accuracy: 0.7990 - val_loss: 42.9129\n",
            "Epoch 4/50\n",
            "\u001b[1m4401/4401\u001b[0m \u001b[32m━━━━━━━━━━━━━━━━━━━━\u001b[0m\u001b[37m\u001b[0m \u001b[1m17s\u001b[0m 4ms/step - accuracy: 0.8811 - loss: 0.3215 - val_accuracy: 0.8490 - val_loss: 34.6704\n",
            "Epoch 5/50\n",
            "\u001b[1m4401/4401\u001b[0m \u001b[32m━━━━━━━━━━━━━━━━━━━━\u001b[0m\u001b[37m\u001b[0m \u001b[1m17s\u001b[0m 4ms/step - accuracy: 0.8867 - loss: 0.3063 - val_accuracy: 0.8169 - val_loss: 21.1154\n",
            "Epoch 6/50\n",
            "\u001b[1m4401/4401\u001b[0m \u001b[32m━━━━━━━━━━━━━━━━━━━━\u001b[0m\u001b[37m\u001b[0m \u001b[1m18s\u001b[0m 4ms/step - accuracy: 0.8851 - loss: 0.3116 - val_accuracy: 0.8913 - val_loss: 28.2595\n",
            "Epoch 7/50\n",
            "\u001b[1m4401/4401\u001b[0m \u001b[32m━━━━━━━━━━━━━━━━━━━━\u001b[0m\u001b[37m\u001b[0m \u001b[1m18s\u001b[0m 4ms/step - accuracy: 0.8821 - loss: 0.3156 - val_accuracy: 0.7550 - val_loss: 17.8254\n",
            "X_test shape: (53101, 82)\n",
            "\u001b[1m1660/1660\u001b[0m \u001b[32m━━━━━━━━━━━━━━━━━━━━\u001b[0m\u001b[37m\u001b[0m \u001b[1m2s\u001b[0m 1ms/step\n",
            "y_pred shape: (53101,), dtype: int64\n",
            "y_test shape: (53101,), dtype: int64\n",
            "X_test type: <class 'pandas.core.frame.DataFrame'>, shape: (53101, 82)\n",
            "Unique predicted labels: {0: 16835, 1: 36266}\n",
            "  Method  Accuracy  Precision  F1_Score    Recall   Average  \\\n",
            "0    GRU  0.996535   0.999681  0.997906  0.996137  0.997564   \n",
            "1    GRU  0.996535   0.999681  0.997906  0.996137  0.997564   \n",
            "2    CNN  0.000000   0.000000  0.000000  0.000000  0.000000   \n",
            "3    CNN  0.290258   0.997479  0.251480  0.143877  0.420773   \n",
            "4   LSTM  0.998249   0.999727  0.998942  0.998159  0.998769   \n",
            "5    DNN  0.000000   0.000000  0.000000  0.000000  0.000000   \n",
            "6    DNN  0.844692   0.992969  0.897258  0.818376  0.888324   \n",
            "\n",
            "   Normal_Detect_Rate  Atk_Detect_Rate  \n",
            "0          -13.021576         0.996137  \n",
            "1            0.000000         0.996137  \n",
            "2            0.000000         0.000000  \n",
            "3            0.000000         0.143877  \n",
            "4            0.000000         0.998159  \n",
            "5            0.000000         0.000000  \n",
            "6            0.000000         0.818376  \n"
          ]
        },
        {
          "name": "stderr",
          "output_type": "stream",
          "text": [
            "<ipython-input-20-ee85432be9d4>:11: FutureWarning: Series.__getitem__ treating keys as positions is deprecated. In a future version, integer keys will always be treated as labels (consistent with DataFrame behavior). To access a value by position, use `ser.iloc[pos]`\n",
            "  normal_detect_rate = (normal - wrong.groupby('y_test').count().iloc[0][0]) / normal\n",
            "<ipython-input-20-ee85432be9d4>:12: FutureWarning: Series.__getitem__ treating keys as positions is deprecated. In a future version, integer keys will always be treated as labels (consistent with DataFrame behavior). To access a value by position, use `ser.iloc[pos]`\n",
            "  atk_detect_rate = (atk - wrong.groupby('y_test').count().iloc[1][0]) / atk\n"
          ]
        }
      ],
      "source": [
        "if 'results' not in locals():\n",
        "    results = pd.DataFrame(columns=['Method', 'Accuracy', 'Precision', 'F1_Score',\n",
        "                                    'Recall', 'Average', 'Normal_Detect_Rate', 'Atk_Detect_Rate'])\n",
        "\n",
        "def DNN_model(input_size):\n",
        "    model = Sequential()\n",
        "\n",
        "    model.add(Dense(128, activation='relu', input_shape=(input_size,)))\n",
        "    model.add(BatchNormalization())\n",
        "    model.add(Dropout(0.3))\n",
        "\n",
        "    model.add(Dense(64, activation='relu'))\n",
        "    model.add(BatchNormalization())\n",
        "    model.add(Dropout(0.3))\n",
        "\n",
        "    model.add(Dense(32, activation='relu'))\n",
        "    model.add(BatchNormalization())\n",
        "    model.add(Dropout(0.3))\n",
        "\n",
        "    model.add(Dense(1, activation='sigmoid'))  # Binary classification\n",
        "\n",
        "    model.compile(optimizer='adam', loss='binary_crossentropy', metrics=['accuracy'])\n",
        "    return model\n",
        "\n",
        "model_dnn = DNN_model(X_train.shape[1])\n",
        "early_stopping = EarlyStopping(monitor='val_loss', patience=5, restore_best_weights=True)\n",
        "\n",
        "history = model_dnn.fit(X_train, y_train, epochs=50, batch_size=64, validation_split=0.2, callbacks=[early_stopping])\n",
        "\n",
        "print(f\"X_test shape: {X_test.shape}\")\n",
        "\n",
        "y_pred = model_dnn.predict(X_test)\n",
        "y_pred = np.round(y_pred).astype(int).squeeze()  # Convert to integers and flatten\n",
        "\n",
        "y_test = np.array(y_test)\n",
        "\n",
        "print(f\"y_pred shape: {y_pred.shape}, dtype: {y_pred.dtype}\")\n",
        "print(f\"y_test shape: {y_test.shape}, dtype: {y_test.dtype}\")\n",
        "print(f\"X_test type: {type(X_test)}, shape: {X_test.shape}\")\n",
        "\n",
        "unique, counts = np.unique(y_pred, return_counts=True)\n",
        "print(f\"Unique predicted labels: {dict(zip(unique, counts))}\")\n",
        "\n",
        "if len(unique) == 1:\n",
        "    acc, prec, rec, f1, avrg = 0, 0, 0, 0, 0  # No meaningful results\n",
        "    print(\"DNN model predicted only one class. Setting metrics to 0.\")\n",
        "else:\n",
        "    acc, prec, rec, f1, avrg = testes(model_dnn, X_test, y_test, y_pred)\n",
        "\n",
        "if 0 in y_pred and 1 in y_pred:\n",
        "    norm, atk = test_normal_atk(y_test, y_pred)\n",
        "else:\n",
        "    norm, atk = 0, 0  # Default to 0 if no attacks were predicted\n",
        "    print(\"Warning: DNN model predicted only one class. Normal and Attack Detection Rates set to 0.\")\n",
        "\n",
        "wrong = pd.DataFrame({'y_test': y_test, 'y_pred': y_pred})\n",
        "wrong = wrong[wrong['y_test'] != wrong['y_pred']]\n",
        "\n",
        "wrong_counts = wrong.groupby('y_test').size()\n",
        "\n",
        "normal_misclassified = wrong_counts.get(0, 0)\n",
        "attack_misclassified = wrong_counts.get(1, 0)\n",
        "\n",
        "normal_detect_rate = max(0, (norm - normal_misclassified) / max(1, norm))\n",
        "atk_detect_rate = max(0, (atk - attack_misclassified) / max(1, atk))\n",
        "\n",
        "new_result = pd.DataFrame([{\n",
        "    'Method': 'DNN',\n",
        "    'Accuracy': acc,\n",
        "    'Precision': prec,\n",
        "    'F1_Score': f1,\n",
        "    'Recall': rec,\n",
        "    'Average': avrg,\n",
        "    'Normal_Detect_Rate': normal_detect_rate,\n",
        "    'Atk_Detect_Rate': atk\n",
        "}])\n",
        "\n",
        "if not results[(results['Method'] == 'DNN') & (results['Accuracy'] == acc)].empty:\n",
        "    print(\"Skipping duplicate DNN entry\")\n",
        "else:\n",
        "    results = pd.concat([results, new_result], ignore_index=True)\n",
        "\n",
        "print(results)\n"
      ]
    },
    {
      "cell_type": "code",
      "execution_count": null,
      "metadata": {
        "id": "AUpHQY2r8BGK",
        "outputId": "e8bef448-0f7a-41fc-f979-6efd64b91685"
      },
      "outputs": [
        {
          "name": "stdout",
          "output_type": "stream",
          "text": [
            "298578/298578 [==============================] - 15s 50us/step\n",
            "[0.043137314041730386, 0.9974412046433427]\n",
            "\n",
            "Accuracy\n",
            "0.9974412046433427\n",
            "\n",
            "Precision\n",
            "0.9981403904778353\n",
            "\n",
            "Recall\n",
            "0.9987902658601773\n",
            "\n",
            "F1 Score\n",
            "0.9984652224222165\n",
            "\n",
            "Average (acc, prec, rec, f1)\n",
            "0.9982092708508931\n"
          ]
        }
      ],
      "source": [
        "y_pred = model_dnn.predict(X_test)\n",
        "\n",
        "y_pred = y_pred.round()\n",
        "\n",
        "acc, prec, rec, f1, avrg = testes(model_dnn,X_test,y_test,y_pred)\n",
        "\n",
        "norm, atk = test_normal_atk(y_test,y_pred)\n",
        "\n",
        "results = results.append({'Method':'DNN', 'Accuracy':acc, 'Precision':prec, 'F1_Score':f1,\n",
        "                          'Recall':rec,'Average':avrg, 'Normal_Detect_Rate':norm, 'Atk_Detect_Rate':atk}, ignore_index=True)"
      ]
    },
    {
      "cell_type": "markdown",
      "metadata": {
        "id": "2FKhnTbg8BGK"
      },
      "source": [
        "### SVM"
      ]
    },
    {
      "cell_type": "code",
      "execution_count": null,
      "metadata": {
        "colab": {
          "base_uri": "https://localhost:8080/"
        },
        "id": "CxKj31k26Qm5",
        "outputId": "2c19f9b8-b93f-48d9-fe5f-aa6d5748824b"
      },
      "outputs": [
        {
          "name": "stdout",
          "output_type": "stream",
          "text": [
            "y_pred shape: (53101,), dtype: int64\n",
            "y_test shape: (53101,), dtype: int64\n",
            "X_test type: <class 'pandas.core.frame.DataFrame'>, shape: (53101, 82)\n",
            "Unique predicted labels: {0: 17348, 1: 35753}\n",
            "  Method  Accuracy  Precision  F1_Score    Recall   Average  \\\n",
            "0    GRU  0.996535   0.999681  0.997906  0.996137  0.997564   \n",
            "1    GRU  0.996535   0.999681  0.997906  0.996137  0.997564   \n",
            "2    CNN  0.000000   0.000000  0.000000  0.000000  0.000000   \n",
            "3    CNN  0.290258   0.997479  0.251480  0.143877  0.420773   \n",
            "4   LSTM  0.998249   0.999727  0.998942  0.998159  0.998769   \n",
            "5    DNN  0.000000   0.000000  0.000000  0.000000  0.000000   \n",
            "6    DNN  0.844692   0.992969  0.897258  0.818376  0.888324   \n",
            "7    SVM  0.808215   0.972953  0.872311  0.790537  0.861004   \n",
            "\n",
            "   Normal_Detect_Rate  Atk_Detect_Rate  \n",
            "0          -13.021576         0.996137  \n",
            "1            0.000000         0.996137  \n",
            "2            0.000000         0.000000  \n",
            "3            0.000000         0.143877  \n",
            "4            0.000000         0.998159  \n",
            "5            0.000000         0.000000  \n",
            "6            0.000000         0.818376  \n",
            "7            0.000000         0.790537  \n"
          ]
        },
        {
          "name": "stderr",
          "output_type": "stream",
          "text": [
            "<ipython-input-20-ee85432be9d4>:11: FutureWarning: Series.__getitem__ treating keys as positions is deprecated. In a future version, integer keys will always be treated as labels (consistent with DataFrame behavior). To access a value by position, use `ser.iloc[pos]`\n",
            "  normal_detect_rate = (normal - wrong.groupby('y_test').count().iloc[0][0]) / normal\n",
            "<ipython-input-20-ee85432be9d4>:12: FutureWarning: Series.__getitem__ treating keys as positions is deprecated. In a future version, integer keys will always be treated as labels (consistent with DataFrame behavior). To access a value by position, use `ser.iloc[pos]`\n",
            "  atk_detect_rate = (atk - wrong.groupby('y_test').count().iloc[1][0]) / atk\n"
          ]
        }
      ],
      "source": [
        "import numpy as np\n",
        "import pandas as pd\n",
        "from sklearn.linear_model import SGDClassifier\n",
        "from sklearn.metrics import accuracy_score, precision_score, recall_score, f1_score\n",
        "\n",
        "if 'results' not in locals():\n",
        "    results = pd.DataFrame(columns=['Method', 'Accuracy', 'Precision', 'F1_Score',\n",
        "                                    'Recall', 'Average', 'Normal_Detect_Rate', 'Atk_Detect_Rate'])\n",
        "\n",
        "model_svm = SGDClassifier(\n",
        "    loss='hinge',  # Hinge loss for SVM-like behavior\n",
        "    max_iter=1000,  # More iterations but much faster per step\n",
        "    learning_rate='adaptive',\n",
        "    eta0=0.01,\n",
        "    tol=1e-3,\n",
        "    n_jobs=-1\n",
        ")\n",
        "\n",
        "model_svm.fit(X_train, y_train)\n",
        "\n",
        "y_pred = model_svm.predict(X_test)\n",
        "\n",
        "y_test = np.array(y_test)\n",
        "\n",
        "print(f\"y_pred shape: {y_pred.shape}, dtype: {y_pred.dtype}\")\n",
        "print(f\"y_test shape: {y_test.shape}, dtype: {y_test.dtype}\")\n",
        "print(f\"X_test type: {type(X_test)}, shape: {X_test.shape}\")\n",
        "\n",
        "unique, counts = np.unique(y_pred, return_counts=True)\n",
        "print(f\"Unique predicted labels: {dict(zip(unique, counts))}\")\n",
        "\n",
        "if len(unique) == 1:\n",
        "    acc, prec, rec, f1, avrg = 0, 0, 0, 0, 0  # No meaningful results\n",
        "    print(\"SVM model predicted only one class. Setting metrics to 0.\")\n",
        "else:\n",
        "    acc, prec, rec, f1, avrg = testes(model_svm, X_test, y_test, y_pred, False)\n",
        "\n",
        "if 0 in y_pred and 1 in y_pred:\n",
        "    norm, atk = test_normal_atk(y_test, y_pred)\n",
        "else:\n",
        "    norm, atk = 0, 0  # Default to 0 if no attacks were predicted\n",
        "    print(\"Warning: SVM model predicted only one class. Normal and Attack Detection Rates set to 0.\")\n",
        "\n",
        "wrong = pd.DataFrame({'y_test': y_test, 'y_pred': y_pred})\n",
        "wrong = wrong[wrong['y_test'] != wrong['y_pred']]\n",
        "\n",
        "wrong_counts = wrong.groupby('y_test').size()\n",
        "\n",
        "normal_misclassified = wrong_counts.get(0, 0)\n",
        "attack_misclassified = wrong_counts.get(1, 0)\n",
        "\n",
        "normal_detect_rate = max(0, (norm - normal_misclassified) / max(1, norm))\n",
        "atk_detect_rate = max(0, (atk - attack_misclassified) / max(1, atk))\n",
        "\n",
        "new_result = pd.DataFrame([{\n",
        "    'Method': 'SVM',\n",
        "    'Accuracy': acc,\n",
        "    'Precision': prec,\n",
        "    'F1_Score': f1,\n",
        "    'Recall': rec,\n",
        "    'Average': avrg,\n",
        "    'Normal_Detect_Rate': normal_detect_rate,\n",
        "    'Atk_Detect_Rate': atk\n",
        "}])\n",
        "\n",
        "if not results[(results['Method'] == 'SVM') & (results['Accuracy'] == acc)].empty:\n",
        "    print(\"Skipping duplicate SVM entry\")\n",
        "else:\n",
        "    results = pd.concat([results, new_result], ignore_index=True)\n",
        "\n",
        "print(results)\n"
      ]
    },
    {
      "cell_type": "code",
      "execution_count": null,
      "metadata": {
        "id": "wcNDYNtV8BGK",
        "outputId": "b1039962-b9df-405c-808a-1218ef938a6a"
      },
      "outputs": [
        {
          "name": "stdout",
          "output_type": "stream",
          "text": [
            "\n",
            "Accuracy\n",
            "0.9986502689414491\n",
            "\n",
            "Precision\n",
            "0.9991480332427783\n",
            "\n",
            "Recall\n",
            "0.9992323613930029\n",
            "\n",
            "F1 Score\n",
            "0.9991901955386405\n",
            "\n",
            "Average (acc, prec, rec, f1)\n",
            "0.9990552147789676\n"
          ]
        }
      ],
      "source": [
        "y_pred = model_svm.predict(X_test)\n",
        "\n",
        "y_pred = y_pred.round()\n",
        "\n",
        "acc, prec, rec, f1, avrg = testes(model_svm,X_test,y_test,y_pred,False)\n",
        "\n",
        "norm, atk = test_normal_atk(y_test,y_pred)\n",
        "\n",
        "results = results.append({'Method':'SVM', 'Accuracy':acc, 'Precision':prec, 'F1_Score':f1,\n",
        "                          'Recall':rec,'Average':avrg, 'Normal_Detect_Rate':norm, 'Atk_Detect_Rate':atk}, ignore_index=True)"
      ]
    },
    {
      "cell_type": "markdown",
      "metadata": {
        "id": "fdlZSRSP8BGK"
      },
      "source": [
        "### LR"
      ]
    },
    {
      "cell_type": "code",
      "execution_count": null,
      "metadata": {
        "colab": {
          "base_uri": "https://localhost:8080/"
        },
        "id": "CIjhaS4D7gv7",
        "outputId": "536ec753-0e88-43f2-f331-26bf03f5b764"
      },
      "outputs": [
        {
          "name": "stdout",
          "output_type": "stream",
          "text": [
            "y_pred shape: (53101,), dtype: int64\n",
            "y_test shape: (53101,), dtype: int64\n",
            "X_test_scaled type: <class 'numpy.ndarray'>, shape: (53101, 82)\n",
            "Unique predicted labels: {0: 9771, 1: 43330}\n",
            "  Method  Accuracy  Precision  F1_Score    Recall   Average  \\\n",
            "0    GRU  0.996535   0.999681  0.997906  0.996137  0.997564   \n",
            "1    GRU  0.996535   0.999681  0.997906  0.996137  0.997564   \n",
            "2    CNN  0.000000   0.000000  0.000000  0.000000  0.000000   \n",
            "3    CNN  0.290258   0.997479  0.251480  0.143877  0.420773   \n",
            "4   LSTM  0.998249   0.999727  0.998942  0.998159  0.998769   \n",
            "5    DNN  0.000000   0.000000  0.000000  0.000000  0.000000   \n",
            "6    DNN  0.844692   0.992969  0.897258  0.818376  0.888324   \n",
            "7    SVM  0.808215   0.972953  0.872311  0.790537  0.861004   \n",
            "8     LR  0.986309   0.999377  0.991676  0.984092  0.990363   \n",
            "\n",
            "   Normal_Detect_Rate  Atk_Detect_Rate  \n",
            "0          -13.021576         0.996137  \n",
            "1            0.000000         0.996137  \n",
            "2            0.000000         0.000000  \n",
            "3            0.000000         0.143877  \n",
            "4            0.000000         0.998159  \n",
            "5            0.000000         0.000000  \n",
            "6            0.000000         0.818376  \n",
            "7            0.000000         0.790537  \n",
            "8            0.000000         0.984092  \n"
          ]
        },
        {
          "name": "stderr",
          "output_type": "stream",
          "text": [
            "<ipython-input-20-ee85432be9d4>:11: FutureWarning: Series.__getitem__ treating keys as positions is deprecated. In a future version, integer keys will always be treated as labels (consistent with DataFrame behavior). To access a value by position, use `ser.iloc[pos]`\n",
            "  normal_detect_rate = (normal - wrong.groupby('y_test').count().iloc[0][0]) / normal\n",
            "<ipython-input-20-ee85432be9d4>:12: FutureWarning: Series.__getitem__ treating keys as positions is deprecated. In a future version, integer keys will always be treated as labels (consistent with DataFrame behavior). To access a value by position, use `ser.iloc[pos]`\n",
            "  atk_detect_rate = (atk - wrong.groupby('y_test').count().iloc[1][0]) / atk\n"
          ]
        }
      ],
      "source": [
        "if 'results' not in locals():\n",
        "    results = pd.DataFrame(columns=['Method', 'Accuracy', 'Precision', 'F1_Score',\n",
        "                                    'Recall', 'Average', 'Normal_Detect_Rate', 'Atk_Detect_Rate'])\n",
        "\n",
        "scaler = StandardScaler()\n",
        "X_train_scaled = scaler.fit_transform(X_train)\n",
        "X_test_scaled = scaler.transform(X_test)\n",
        "\n",
        "model_lr = LogisticRegression(\n",
        "    max_iter=1000,  # More iterations to improve convergence\n",
        "    solver='saga',  # Best for large datasets\n",
        "    tol=1e-3,  # Stops early if model is close to convergence\n",
        "    n_jobs=-1\n",
        ")\n",
        "\n",
        "model_lr.fit(X_train_scaled, y_train)\n",
        "\n",
        "y_pred = model_lr.predict(X_test_scaled)\n",
        "\n",
        "y_test = np.array(y_test)\n",
        "\n",
        "print(f\"y_pred shape: {y_pred.shape}, dtype: {y_pred.dtype}\")\n",
        "print(f\"y_test shape: {y_test.shape}, dtype: {y_test.dtype}\")\n",
        "print(f\"X_test_scaled type: {type(X_test_scaled)}, shape: {X_test_scaled.shape}\")\n",
        "\n",
        "unique, counts = np.unique(y_pred, return_counts=True)\n",
        "print(f\"Unique predicted labels: {dict(zip(unique, counts))}\")\n",
        "\n",
        "if len(unique) == 1:\n",
        "    acc, prec, rec, f1, avrg = 0, 0, 0, 0, 0  # No meaningful results\n",
        "    print(\"Logistic Regression model predicted only one class. Setting metrics to 0.\")\n",
        "else:\n",
        "    acc, prec, rec, f1, avrg = testes(model_lr, X_test_scaled, y_test, y_pred, False)\n",
        "\n",
        "if 0 in y_pred and 1 in y_pred:\n",
        "    norm, atk = test_normal_atk(y_test, y_pred)\n",
        "else:\n",
        "    norm, atk = 0, 0  # Default to 0 if no attacks were predicted\n",
        "    print(\"Warning: Logistic Regression model predicted only one class. Normal and Attack Detection Rates set to 0.\")\n",
        "\n",
        "wrong = pd.DataFrame({'y_test': y_test, 'y_pred': y_pred})\n",
        "wrong = wrong[wrong['y_test'] != wrong['y_pred']]\n",
        "\n",
        "wrong_counts = wrong.groupby('y_test').size()\n",
        "\n",
        "normal_misclassified = wrong_counts.get(0, 0)\n",
        "attack_misclassified = wrong_counts.get(1, 0)\n",
        "\n",
        "normal_detect_rate = max(0, (norm - normal_misclassified) / max(1, norm))\n",
        "atk_detect_rate = max(0, (atk - attack_misclassified) / max(1, atk))\n",
        "\n",
        "new_result = pd.DataFrame([{\n",
        "    'Method': 'LR',\n",
        "    'Accuracy': acc,\n",
        "    'Precision': prec,\n",
        "    'F1_Score': f1,\n",
        "    'Recall': rec,\n",
        "    'Average': avrg,\n",
        "    'Normal_Detect_Rate': normal_detect_rate,\n",
        "    'Atk_Detect_Rate': atk\n",
        "}])\n",
        "\n",
        "if not results[(results['Method'] == 'LR') & (results['Accuracy'] == acc)].empty:\n",
        "    print(\"Skipping duplicate LR entry\")\n",
        "else:\n",
        "    results = pd.concat([results, new_result], ignore_index=True)\n",
        "\n",
        "print(results)\n"
      ]
    },
    {
      "cell_type": "code",
      "execution_count": null,
      "metadata": {
        "id": "r7zECLRe8BGK",
        "outputId": "d4dffcdd-799b-483b-8d13-c16ab9826562"
      },
      "outputs": [
        {
          "name": "stdout",
          "output_type": "stream",
          "text": [
            "\n",
            "Accuracy\n",
            "0.9985799355612269\n",
            "\n",
            "Precision\n",
            "0.9990677302043358\n",
            "\n",
            "Recall\n",
            "0.9992283423427044\n",
            "\n",
            "F1 Score\n",
            "0.9991480298189563\n",
            "\n",
            "Average (acc, prec, rec, f1)\n",
            "0.9990060094818058\n"
          ]
        }
      ],
      "source": [
        "y_pred = model_lr.predict(X_test)\n",
        "\n",
        "y_pred = y_pred.round()\n",
        "\n",
        "acc, prec, rec, f1, avrg = testes(model_lr,X_test,y_test,y_pred,False)\n",
        "\n",
        "norm, atk = test_normal_atk(y_test,y_pred)\n",
        "\n",
        "results = results.append({'Method':'LR', 'Accuracy':acc, 'Precision':prec, 'F1_Score':f1,\n",
        "                          'Recall':rec,'Average':avrg, 'Normal_Detect_Rate':norm, 'Atk_Detect_Rate':atk}, ignore_index=True)"
      ]
    },
    {
      "cell_type": "markdown",
      "metadata": {
        "id": "ZzDsroPr8BGK"
      },
      "source": [
        "### GB"
      ]
    },
    {
      "cell_type": "code",
      "execution_count": null,
      "metadata": {
        "colab": {
          "base_uri": "https://localhost:8080/"
        },
        "id": "s2ZZqoMI9iKs",
        "outputId": "2aa7e3f0-e664-4a49-db52-64337daf823c"
      },
      "outputs": [
        {
          "name": "stdout",
          "output_type": "stream",
          "text": [
            "y_pred shape: (53101,), dtype: int64\n",
            "y_test shape: (53101,), dtype: int64\n",
            "X_test_scaled type: <class 'numpy.ndarray'>, shape: (53101, 82)\n",
            "Unique predicted labels: {0: 9098, 1: 44003}\n",
            "  Method  Accuracy  Precision  F1_Score    Recall   Average  \\\n",
            "0    GRU  0.996535   0.999681  0.997906  0.996137  0.997564   \n",
            "1    GRU  0.996535   0.999681  0.997906  0.996137  0.997564   \n",
            "2    CNN  0.000000   0.000000  0.000000  0.000000  0.000000   \n",
            "3    CNN  0.290258   0.997479  0.251480  0.143877  0.420773   \n",
            "4   LSTM  0.998249   0.999727  0.998942  0.998159  0.998769   \n",
            "5    DNN  0.000000   0.000000  0.000000  0.000000  0.000000   \n",
            "6    DNN  0.844692   0.992969  0.897258  0.818376  0.888324   \n",
            "7    SVM  0.808215   0.972953  0.872311  0.790537  0.861004   \n",
            "8     LR  0.986309   0.999377  0.991676  0.984092  0.990363   \n",
            "9     GB  0.999925   0.999955  0.999955  0.999955  0.999947   \n",
            "\n",
            "   Normal_Detect_Rate  Atk_Detect_Rate  \n",
            "0          -13.021576         0.996137  \n",
            "1            0.000000         0.996137  \n",
            "2            0.000000         0.000000  \n",
            "3            0.000000         0.143877  \n",
            "4            0.000000         0.998159  \n",
            "5            0.000000         0.000000  \n",
            "6            0.000000         0.818376  \n",
            "7            0.000000         0.790537  \n",
            "8            0.000000         0.984092  \n",
            "9            0.000000         0.999955  \n"
          ]
        },
        {
          "name": "stderr",
          "output_type": "stream",
          "text": [
            "<ipython-input-20-ee85432be9d4>:11: FutureWarning: Series.__getitem__ treating keys as positions is deprecated. In a future version, integer keys will always be treated as labels (consistent with DataFrame behavior). To access a value by position, use `ser.iloc[pos]`\n",
            "  normal_detect_rate = (normal - wrong.groupby('y_test').count().iloc[0][0]) / normal\n",
            "<ipython-input-20-ee85432be9d4>:12: FutureWarning: Series.__getitem__ treating keys as positions is deprecated. In a future version, integer keys will always be treated as labels (consistent with DataFrame behavior). To access a value by position, use `ser.iloc[pos]`\n",
            "  atk_detect_rate = (atk - wrong.groupby('y_test').count().iloc[1][0]) / atk\n"
          ]
        }
      ],
      "source": [
        "if 'results' not in locals():\n",
        "    results = pd.DataFrame(columns=['Method', 'Accuracy', 'Precision', 'F1_Score',\n",
        "                                    'Recall', 'Average', 'Normal_Detect_Rate', 'Atk_Detect_Rate'])\n",
        "\n",
        "scaler = StandardScaler()\n",
        "X_train_scaled = scaler.fit_transform(X_train)\n",
        "X_test_scaled = scaler.transform(X_test)\n",
        "\n",
        "model_gb = GradientBoostingClassifier(\n",
        "    n_estimators=100,  # Number of boosting stages\n",
        "    learning_rate=0.1,  # Controls contribution of each tree\n",
        "    max_depth=5,  # Depth of each tree\n",
        "    random_state=42\n",
        ")\n",
        "\n",
        "model_gb.fit(X_train_scaled, y_train)\n",
        "\n",
        "y_pred = model_gb.predict(X_test_scaled)\n",
        "\n",
        "y_test = np.array(y_test)\n",
        "\n",
        "print(f\"y_pred shape: {y_pred.shape}, dtype: {y_pred.dtype}\")\n",
        "print(f\"y_test shape: {y_test.shape}, dtype: {y_test.dtype}\")\n",
        "print(f\"X_test_scaled type: {type(X_test_scaled)}, shape: {X_test_scaled.shape}\")\n",
        "\n",
        "unique, counts = np.unique(y_pred, return_counts=True)\n",
        "print(f\"Unique predicted labels: {dict(zip(unique, counts))}\")\n",
        "\n",
        "if len(unique) == 1:\n",
        "    acc, prec, rec, f1, avrg = 0, 0, 0, 0, 0  # No meaningful results\n",
        "    print(\"Gradient Boosting model predicted only one class. Setting metrics to 0.\")\n",
        "else:\n",
        "    acc, prec, rec, f1, avrg = testes(model_gb, X_test_scaled, y_test, y_pred, False)\n",
        "\n",
        "if 0 in y_pred and 1 in y_pred:\n",
        "    norm, atk = test_normal_atk(y_test, y_pred)\n",
        "else:\n",
        "    norm, atk = 0, 0  # Default to 0 if no attacks were predicted\n",
        "    print(\"Warning: Gradient Boosting model predicted only one class. Normal and Attack Detection Rates set to 0.\")\n",
        "\n",
        "wrong = pd.DataFrame({'y_test': y_test, 'y_pred': y_pred})\n",
        "wrong = wrong[wrong['y_test'] != wrong['y_pred']]\n",
        "\n",
        "wrong_counts = wrong.groupby('y_test').size()\n",
        "\n",
        "normal_misclassified = wrong_counts.get(0, 0)\n",
        "attack_misclassified = wrong_counts.get(1, 0)\n",
        "\n",
        "normal_detect_rate = max(0, (norm - normal_misclassified) / max(1, norm))\n",
        "atk_detect_rate = max(0, (atk - attack_misclassified) / max(1, atk))\n",
        "\n",
        "new_result = pd.DataFrame([{\n",
        "    'Method': 'GB',\n",
        "    'Accuracy': acc,\n",
        "    'Precision': prec,\n",
        "    'F1_Score': f1,\n",
        "    'Recall': rec,\n",
        "    'Average': avrg,\n",
        "    'Normal_Detect_Rate': normal_detect_rate,\n",
        "    'Atk_Detect_Rate': atk\n",
        "}])\n",
        "\n",
        "if not results[(results['Method'] == 'GB') & (results['Accuracy'] == acc)].empty:\n",
        "    print(\"Skipping duplicate GB entry\")\n",
        "else:\n",
        "    results = pd.concat([results, new_result], ignore_index=True)\n",
        "\n",
        "print(results)\n"
      ]
    },
    {
      "cell_type": "code",
      "execution_count": null,
      "metadata": {
        "id": "ZoHMTpYw8BGK",
        "outputId": "dd586350-ccaa-40f3-b2fe-6bbdc36047b6"
      },
      "outputs": [
        {
          "name": "stdout",
          "output_type": "stream",
          "text": [
            "\n",
            "Accuracy\n",
            "0.9986804118186873\n",
            "\n",
            "Precision\n",
            "0.9992042344373576\n",
            "\n",
            "Recall\n",
            "0.9992122661415107\n",
            "\n",
            "F1 Score\n",
            "0.9992082502732943\n",
            "\n",
            "Average (acc, prec, rec, f1)\n",
            "0.9990762906677125\n"
          ]
        }
      ],
      "source": [
        "y_pred = model_gd.predict(X_test)\n",
        "\n",
        "y_pred = y_pred.round()\n",
        "\n",
        "acc, prec, rec, f1, avrg = testes(model_gd,X_test,y_test,y_pred,False)\n",
        "\n",
        "norm, atk = test_normal_atk(y_test,y_pred)\n",
        "\n",
        "results = results.append({'Method':'GB', 'Accuracy':acc, 'Precision':prec, 'F1_Score':f1,\n",
        "                          'Recall':rec,'Average':avrg, 'Normal_Detect_Rate':norm, 'Atk_Detect_Rate':atk}, ignore_index=True)"
      ]
    },
    {
      "cell_type": "markdown",
      "metadata": {
        "id": "dBfT0fGr8BGK"
      },
      "source": [
        "### kNN"
      ]
    },
    {
      "cell_type": "code",
      "execution_count": null,
      "metadata": {
        "colab": {
          "base_uri": "https://localhost:8080/"
        },
        "id": "qoEO8Lwr_mRC",
        "outputId": "069f616c-e20d-4570-d687-a52de02f3339"
      },
      "outputs": [
        {
          "name": "stdout",
          "output_type": "stream",
          "text": [
            "y_pred shape: (53101,), dtype: int64\n",
            "y_test shape: (53101,), dtype: int64\n",
            "X_test_scaled type: <class 'numpy.ndarray'>, shape: (53101, 82)\n",
            "Unique predicted labels: {0: 9123, 1: 43978}\n",
            "   Method  Accuracy  Precision  F1_Score    Recall   Average  \\\n",
            "0     GRU  0.996535   0.999681  0.997906  0.996137  0.997564   \n",
            "1     GRU  0.996535   0.999681  0.997906  0.996137  0.997564   \n",
            "2     CNN  0.000000   0.000000  0.000000  0.000000  0.000000   \n",
            "3     CNN  0.290258   0.997479  0.251480  0.143877  0.420773   \n",
            "4    LSTM  0.998249   0.999727  0.998942  0.998159  0.998769   \n",
            "5     DNN  0.000000   0.000000  0.000000  0.000000  0.000000   \n",
            "6     DNN  0.844692   0.992969  0.897258  0.818376  0.888324   \n",
            "7     SVM  0.808215   0.972953  0.872311  0.790537  0.861004   \n",
            "8      LR  0.986309   0.999377  0.991676  0.984092  0.990363   \n",
            "9      GB  0.999925   0.999955  0.999955  0.999955  0.999947   \n",
            "10    kNN  0.999153   0.999773  0.999489  0.999205  0.999405   \n",
            "\n",
            "    Normal_Detect_Rate  Atk_Detect_Rate  \n",
            "0           -13.021576         0.996137  \n",
            "1             0.000000         0.996137  \n",
            "2             0.000000         0.000000  \n",
            "3             0.000000         0.143877  \n",
            "4             0.000000         0.998159  \n",
            "5             0.000000         0.000000  \n",
            "6             0.000000         0.818376  \n",
            "7             0.000000         0.790537  \n",
            "8             0.000000         0.984092  \n",
            "9             0.000000         0.999955  \n",
            "10            0.000000         0.999205  \n"
          ]
        },
        {
          "name": "stderr",
          "output_type": "stream",
          "text": [
            "<ipython-input-20-ee85432be9d4>:11: FutureWarning: Series.__getitem__ treating keys as positions is deprecated. In a future version, integer keys will always be treated as labels (consistent with DataFrame behavior). To access a value by position, use `ser.iloc[pos]`\n",
            "  normal_detect_rate = (normal - wrong.groupby('y_test').count().iloc[0][0]) / normal\n",
            "<ipython-input-20-ee85432be9d4>:12: FutureWarning: Series.__getitem__ treating keys as positions is deprecated. In a future version, integer keys will always be treated as labels (consistent with DataFrame behavior). To access a value by position, use `ser.iloc[pos]`\n",
            "  atk_detect_rate = (atk - wrong.groupby('y_test').count().iloc[1][0]) / atk\n"
          ]
        }
      ],
      "source": [
        "if 'results' not in locals():\n",
        "    results = pd.DataFrame(columns=['Method', 'Accuracy', 'Precision', 'F1_Score',\n",
        "                                    'Recall', 'Average', 'Normal_Detect_Rate', 'Atk_Detect_Rate'])\n",
        "\n",
        "scaler = StandardScaler()\n",
        "X_train_scaled = scaler.fit_transform(X_train)\n",
        "X_test_scaled = scaler.transform(X_test)\n",
        "\n",
        "model_knn = KNeighborsClassifier(\n",
        "    n_neighbors=7,  # Adjusting k to avoid overfitting (7 is often better than 5)\n",
        "    weights='distance',  # Weight closer neighbors more\n",
        "    algorithm='auto',\n",
        "    n_jobs=-1\n",
        ")\n",
        "\n",
        "model_knn.fit(X_train_scaled, y_train)\n",
        "\n",
        "y_pred = model_knn.predict(X_test_scaled)\n",
        "\n",
        "y_test = np.array(y_test)\n",
        "\n",
        "print(f\"y_pred shape: {y_pred.shape}, dtype: {y_pred.dtype}\")\n",
        "print(f\"y_test shape: {y_test.shape}, dtype: {y_test.dtype}\")\n",
        "print(f\"X_test_scaled type: {type(X_test_scaled)}, shape: {X_test_scaled.shape}\")\n",
        "\n",
        "unique, counts = np.unique(y_pred, return_counts=True)\n",
        "print(f\"Unique predicted labels: {dict(zip(unique, counts))}\")\n",
        "\n",
        "if len(unique) == 1:\n",
        "    acc, prec, rec, f1, avrg = 0, 0, 0, 0, 0  # No meaningful results\n",
        "    print(\"kNN model predicted only one class. Setting metrics to 0.\")\n",
        "else:\n",
        "    acc, prec, rec, f1, avrg = testes(model_knn, X_test_scaled, y_test, y_pred, False)\n",
        "\n",
        "if 0 in y_pred and 1 in y_pred:\n",
        "    norm, atk = test_normal_atk(y_test, y_pred)\n",
        "else:\n",
        "    norm, atk = 0, 0  # Default to 0 if no attacks were predicted\n",
        "    print(\"Warning: kNN model predicted only one class. Normal and Attack Detection Rates set to 0.\")\n",
        "\n",
        "wrong = pd.DataFrame({'y_test': y_test, 'y_pred': y_pred})\n",
        "wrong = wrong[wrong['y_test'] != wrong['y_pred']]\n",
        "\n",
        "wrong_counts = wrong.groupby('y_test').size()\n",
        "\n",
        "normal_misclassified = wrong_counts.get(0, 0)\n",
        "attack_misclassified = wrong_counts.get(1, 0)\n",
        "\n",
        "normal_detect_rate = max(0, (norm - normal_misclassified) / max(1, norm))\n",
        "atk_detect_rate = max(0, (atk - attack_misclassified) / max(1, atk))\n",
        "\n",
        "new_result = pd.DataFrame([{\n",
        "    'Method': 'kNN',\n",
        "    'Accuracy': acc,\n",
        "    'Precision': prec,\n",
        "    'F1_Score': f1,\n",
        "    'Recall': rec,\n",
        "    'Average': avrg,\n",
        "    'Normal_Detect_Rate': normal_detect_rate,\n",
        "    'Atk_Detect_Rate': atk\n",
        "}])\n",
        "\n",
        "if not results[(results['Method'] == 'kNN') & (results['Accuracy'] == acc)].empty:\n",
        "    print(\"Skipping duplicate kNN entry\")\n",
        "else:\n",
        "    results = pd.concat([results, new_result], ignore_index=True)\n",
        "\n",
        "print(results)\n"
      ]
    },
    {
      "cell_type": "code",
      "execution_count": null,
      "metadata": {
        "id": "84a8Us688BGK",
        "outputId": "50b98eb1-b9a8-4215-b454-93e36f0d64e4"
      },
      "outputs": [
        {
          "name": "stderr",
          "output_type": "stream",
          "text": [
            "D:\\ProgramData\\Anaconda3\\envs\\PaperGRU\\lib\\site-packages\\sklearn\\neighbors\\base.py:441: DeprecationWarning: distutils Version classes are deprecated. Use packaging.version instead.\n",
            "  old_joblib = LooseVersion(joblib_version) < LooseVersion('0.12')\n",
            "D:\\ProgramData\\Anaconda3\\envs\\PaperGRU\\lib\\site-packages\\sklearn\\neighbors\\base.py:441: DeprecationWarning: distutils Version classes are deprecated. Use packaging.version instead.\n",
            "  old_joblib = LooseVersion(joblib_version) < LooseVersion('0.12')\n"
          ]
        },
        {
          "name": "stdout",
          "output_type": "stream",
          "text": [
            "\n",
            "Accuracy\n",
            "0.9991258565600949\n",
            "\n",
            "Precision\n",
            "0.9995578316061968\n",
            "\n",
            "Recall\n",
            "0.9993931234049395\n",
            "\n",
            "F1 Score\n",
            "0.999475470719811\n",
            "\n",
            "Average (acc, prec, rec, f1)\n",
            "0.9993880705727606\n"
          ]
        }
      ],
      "source": [
        "y_pred = model_knn.predict(X_test)\n",
        "\n",
        "y_pred = y_pred.round()\n",
        "\n",
        "acc, prec, rec, f1, avrg = testes(model_knn,X_test,y_test,y_pred,False)\n",
        "\n",
        "norm, atk = test_normal_atk(y_test,y_pred)\n",
        "\n",
        "results = results.append({'Method':'kNN', 'Accuracy':acc, 'Precision':prec, 'F1_Score':f1,\n",
        "                          'Recall':rec,'Average':avrg, 'Normal_Detect_Rate':norm, 'Atk_Detect_Rate':atk}, ignore_index=True)"
      ]
    },
    {
      "cell_type": "markdown",
      "metadata": {
        "id": "K3sFTdIn8BGK"
      },
      "source": [
        "# Discussion and Results\n",
        "\n",
        "Showing the table 'results', containing the performance metrics outcomes for each method."
      ]
    },
    {
      "cell_type": "code",
      "execution_count": null,
      "metadata": {
        "colab": {
          "base_uri": "https://localhost:8080/",
          "height": 414
        },
        "id": "drJo7DYw_4aO",
        "outputId": "81887c40-41e7-429a-9678-e9f7cd80e843"
      },
      "outputs": [
        {
          "data": {
            "application/vnd.google.colaboratory.intrinsic+json": {
              "summary": "{\n  \"name\": \"results\",\n  \"rows\": 11,\n  \"fields\": [\n    {\n      \"column\": \"Method\",\n      \"properties\": {\n        \"dtype\": \"string\",\n        \"num_unique_values\": 8,\n        \"samples\": [\n          \"CNN\",\n          \"LR\",\n          \"GRU\"\n        ],\n        \"semantic_type\": \"\",\n        \"description\": \"\"\n      }\n    },\n    {\n      \"column\": \"Accuracy\",\n      \"properties\": {\n        \"dtype\": \"number\",\n        \"std\": 0.41259882298089123,\n        \"min\": 0.0,\n        \"max\": 0.9999246718517542,\n        \"num_unique_values\": 9,\n        \"samples\": [\n          0.9999246718517542,\n          0.0,\n          0.8082145345662041\n        ],\n        \"semantic_type\": \"\",\n        \"description\": \"\"\n      }\n    },\n    {\n      \"column\": \"Precision\",\n      \"properties\": {\n        \"dtype\": \"number\",\n        \"std\": 0.40287113746690817,\n        \"min\": 0.0,\n        \"max\": 0.9999545485535077,\n        \"num_unique_values\": 9,\n        \"samples\": [\n          0.9999545485535077,\n          0.0,\n          0.9729533186026348\n        ],\n        \"semantic_type\": \"\",\n        \"description\": \"\"\n      }\n    },\n    {\n      \"column\": \"F1_Score\",\n      \"properties\": {\n        \"dtype\": \"number\",\n        \"std\": 0.4210476462758096,\n        \"min\": 0.0,\n        \"max\": 0.9999545485535077,\n        \"num_unique_values\": 9,\n        \"samples\": [\n          0.9999545485535077,\n          0.0,\n          0.872310547168865\n        ],\n        \"semantic_type\": \"\",\n        \"description\": \"\"\n      }\n    },\n    {\n      \"column\": \"Recall\",\n      \"properties\": {\n        \"dtype\": \"number\",\n        \"std\": 0.4284759636447914,\n        \"min\": 0.0,\n        \"max\": 0.9999545485535077,\n        \"num_unique_values\": 9,\n        \"samples\": [\n          0.9999545485535077,\n          0.0,\n          0.7905370088403063\n        ],\n        \"semantic_type\": \"\",\n        \"description\": \"\"\n      }\n    },\n    {\n      \"column\": \"Average\",\n      \"properties\": {\n        \"dtype\": \"number\",\n        \"std\": 0.4038459920662331,\n        \"min\": 0.0,\n        \"max\": 0.9999470793780694,\n        \"num_unique_values\": 9,\n        \"samples\": [\n          0.9999470793780694,\n          0.0,\n          0.8610038522945026\n        ],\n        \"semantic_type\": \"\",\n        \"description\": \"\"\n      }\n    },\n    {\n      \"column\": \"Normal_Detect_Rate\",\n      \"properties\": {\n        \"dtype\": \"number\",\n        \"std\": 3.9261530083019034,\n        \"min\": -13.021576398062528,\n        \"max\": 0.0,\n        \"num_unique_values\": 2,\n        \"samples\": [\n          0.0,\n          -13.021576398062528\n        ],\n        \"semantic_type\": \"\",\n        \"description\": \"\"\n      }\n    },\n    {\n      \"column\": \"Atk_Detect_Rate\",\n      \"properties\": {\n        \"dtype\": \"number\",\n        \"std\": 0.4284759636447914,\n        \"min\": 0.0,\n        \"max\": 0.9999545485535077,\n        \"num_unique_values\": 9,\n        \"samples\": [\n          0.9999545485535077,\n          0.0\n        ],\n        \"semantic_type\": \"\",\n        \"description\": \"\"\n      }\n    }\n  ]\n}",
              "type": "dataframe",
              "variable_name": "results"
            },
            "text/html": [
              "\n",
              "  <div id=\"df-4108a37f-0455-4e19-81b6-0c97f4b7f680\" class=\"colab-df-container\">\n",
              "    <div>\n",
              "<style scoped>\n",
              "    .dataframe tbody tr th:only-of-type {\n",
              "        vertical-align: middle;\n",
              "    }\n",
              "\n",
              "    .dataframe tbody tr th {\n",
              "        vertical-align: top;\n",
              "    }\n",
              "\n",
              "    .dataframe thead th {\n",
              "        text-align: right;\n",
              "    }\n",
              "</style>\n",
              "<table border=\"1\" class=\"dataframe\">\n",
              "  <thead>\n",
              "    <tr style=\"text-align: right;\">\n",
              "      <th></th>\n",
              "      <th>Method</th>\n",
              "      <th>Accuracy</th>\n",
              "      <th>Precision</th>\n",
              "      <th>F1_Score</th>\n",
              "      <th>Recall</th>\n",
              "      <th>Average</th>\n",
              "      <th>Normal_Detect_Rate</th>\n",
              "      <th>Atk_Detect_Rate</th>\n",
              "    </tr>\n",
              "  </thead>\n",
              "  <tbody>\n",
              "    <tr>\n",
              "      <th>0</th>\n",
              "      <td>GRU</td>\n",
              "      <td>0.996535</td>\n",
              "      <td>0.999681</td>\n",
              "      <td>0.997906</td>\n",
              "      <td>0.996137</td>\n",
              "      <td>0.997564</td>\n",
              "      <td>-13.021576</td>\n",
              "      <td>0.996137</td>\n",
              "    </tr>\n",
              "    <tr>\n",
              "      <th>1</th>\n",
              "      <td>GRU</td>\n",
              "      <td>0.996535</td>\n",
              "      <td>0.999681</td>\n",
              "      <td>0.997906</td>\n",
              "      <td>0.996137</td>\n",
              "      <td>0.997564</td>\n",
              "      <td>0.000000</td>\n",
              "      <td>0.996137</td>\n",
              "    </tr>\n",
              "    <tr>\n",
              "      <th>2</th>\n",
              "      <td>CNN</td>\n",
              "      <td>0.000000</td>\n",
              "      <td>0.000000</td>\n",
              "      <td>0.000000</td>\n",
              "      <td>0.000000</td>\n",
              "      <td>0.000000</td>\n",
              "      <td>0.000000</td>\n",
              "      <td>0.000000</td>\n",
              "    </tr>\n",
              "    <tr>\n",
              "      <th>3</th>\n",
              "      <td>CNN</td>\n",
              "      <td>0.290258</td>\n",
              "      <td>0.997479</td>\n",
              "      <td>0.251480</td>\n",
              "      <td>0.143877</td>\n",
              "      <td>0.420773</td>\n",
              "      <td>0.000000</td>\n",
              "      <td>0.143877</td>\n",
              "    </tr>\n",
              "    <tr>\n",
              "      <th>4</th>\n",
              "      <td>LSTM</td>\n",
              "      <td>0.998249</td>\n",
              "      <td>0.999727</td>\n",
              "      <td>0.998942</td>\n",
              "      <td>0.998159</td>\n",
              "      <td>0.998769</td>\n",
              "      <td>0.000000</td>\n",
              "      <td>0.998159</td>\n",
              "    </tr>\n",
              "    <tr>\n",
              "      <th>5</th>\n",
              "      <td>DNN</td>\n",
              "      <td>0.000000</td>\n",
              "      <td>0.000000</td>\n",
              "      <td>0.000000</td>\n",
              "      <td>0.000000</td>\n",
              "      <td>0.000000</td>\n",
              "      <td>0.000000</td>\n",
              "      <td>0.000000</td>\n",
              "    </tr>\n",
              "    <tr>\n",
              "      <th>6</th>\n",
              "      <td>DNN</td>\n",
              "      <td>0.844692</td>\n",
              "      <td>0.992969</td>\n",
              "      <td>0.897258</td>\n",
              "      <td>0.818376</td>\n",
              "      <td>0.888324</td>\n",
              "      <td>0.000000</td>\n",
              "      <td>0.818376</td>\n",
              "    </tr>\n",
              "    <tr>\n",
              "      <th>7</th>\n",
              "      <td>SVM</td>\n",
              "      <td>0.808215</td>\n",
              "      <td>0.972953</td>\n",
              "      <td>0.872311</td>\n",
              "      <td>0.790537</td>\n",
              "      <td>0.861004</td>\n",
              "      <td>0.000000</td>\n",
              "      <td>0.790537</td>\n",
              "    </tr>\n",
              "    <tr>\n",
              "      <th>8</th>\n",
              "      <td>LR</td>\n",
              "      <td>0.986309</td>\n",
              "      <td>0.999377</td>\n",
              "      <td>0.991676</td>\n",
              "      <td>0.984092</td>\n",
              "      <td>0.990363</td>\n",
              "      <td>0.000000</td>\n",
              "      <td>0.984092</td>\n",
              "    </tr>\n",
              "    <tr>\n",
              "      <th>9</th>\n",
              "      <td>GB</td>\n",
              "      <td>0.999925</td>\n",
              "      <td>0.999955</td>\n",
              "      <td>0.999955</td>\n",
              "      <td>0.999955</td>\n",
              "      <td>0.999947</td>\n",
              "      <td>0.000000</td>\n",
              "      <td>0.999955</td>\n",
              "    </tr>\n",
              "    <tr>\n",
              "      <th>10</th>\n",
              "      <td>kNN</td>\n",
              "      <td>0.999153</td>\n",
              "      <td>0.999773</td>\n",
              "      <td>0.999489</td>\n",
              "      <td>0.999205</td>\n",
              "      <td>0.999405</td>\n",
              "      <td>0.000000</td>\n",
              "      <td>0.999205</td>\n",
              "    </tr>\n",
              "  </tbody>\n",
              "</table>\n",
              "</div>\n",
              "    <div class=\"colab-df-buttons\">\n",
              "\n",
              "  <div class=\"colab-df-container\">\n",
              "    <button class=\"colab-df-convert\" onclick=\"convertToInteractive('df-4108a37f-0455-4e19-81b6-0c97f4b7f680')\"\n",
              "            title=\"Convert this dataframe to an interactive table.\"\n",
              "            style=\"display:none;\">\n",
              "\n",
              "  <svg xmlns=\"http://www.w3.org/2000/svg\" height=\"24px\" viewBox=\"0 -960 960 960\">\n",
              "    <path d=\"M120-120v-720h720v720H120Zm60-500h600v-160H180v160Zm220 220h160v-160H400v160Zm0 220h160v-160H400v160ZM180-400h160v-160H180v160Zm440 0h160v-160H620v160ZM180-180h160v-160H180v160Zm440 0h160v-160H620v160Z\"/>\n",
              "  </svg>\n",
              "    </button>\n",
              "\n",
              "  <style>\n",
              "    .colab-df-container {\n",
              "      display:flex;\n",
              "      gap: 12px;\n",
              "    }\n",
              "\n",
              "    .colab-df-convert {\n",
              "      background-color: #E8F0FE;\n",
              "      border: none;\n",
              "      border-radius: 50%;\n",
              "      cursor: pointer;\n",
              "      display: none;\n",
              "      fill: #1967D2;\n",
              "      height: 32px;\n",
              "      padding: 0 0 0 0;\n",
              "      width: 32px;\n",
              "    }\n",
              "\n",
              "    .colab-df-convert:hover {\n",
              "      background-color: #E2EBFA;\n",
              "      box-shadow: 0px 1px 2px rgba(60, 64, 67, 0.3), 0px 1px 3px 1px rgba(60, 64, 67, 0.15);\n",
              "      fill: #174EA6;\n",
              "    }\n",
              "\n",
              "    .colab-df-buttons div {\n",
              "      margin-bottom: 4px;\n",
              "    }\n",
              "\n",
              "    [theme=dark] .colab-df-convert {\n",
              "      background-color: #3B4455;\n",
              "      fill: #D2E3FC;\n",
              "    }\n",
              "\n",
              "    [theme=dark] .colab-df-convert:hover {\n",
              "      background-color: #434B5C;\n",
              "      box-shadow: 0px 1px 3px 1px rgba(0, 0, 0, 0.15);\n",
              "      filter: drop-shadow(0px 1px 2px rgba(0, 0, 0, 0.3));\n",
              "      fill: #FFFFFF;\n",
              "    }\n",
              "  </style>\n",
              "\n",
              "    <script>\n",
              "      const buttonEl =\n",
              "        document.querySelector('#df-4108a37f-0455-4e19-81b6-0c97f4b7f680 button.colab-df-convert');\n",
              "      buttonEl.style.display =\n",
              "        google.colab.kernel.accessAllowed ? 'block' : 'none';\n",
              "\n",
              "      async function convertToInteractive(key) {\n",
              "        const element = document.querySelector('#df-4108a37f-0455-4e19-81b6-0c97f4b7f680');\n",
              "        const dataTable =\n",
              "          await google.colab.kernel.invokeFunction('convertToInteractive',\n",
              "                                                    [key], {});\n",
              "        if (!dataTable) return;\n",
              "\n",
              "        const docLinkHtml = 'Like what you see? Visit the ' +\n",
              "          '<a target=\"_blank\" href=https://colab.research.google.com/notebooks/data_table.ipynb>data table notebook</a>'\n",
              "          + ' to learn more about interactive tables.';\n",
              "        element.innerHTML = '';\n",
              "        dataTable['output_type'] = 'display_data';\n",
              "        await google.colab.output.renderOutput(dataTable, element);\n",
              "        const docLink = document.createElement('div');\n",
              "        docLink.innerHTML = docLinkHtml;\n",
              "        element.appendChild(docLink);\n",
              "      }\n",
              "    </script>\n",
              "  </div>\n",
              "\n",
              "\n",
              "<div id=\"df-2cd78e0e-4ff7-46c9-88b9-635f263757e0\">\n",
              "  <button class=\"colab-df-quickchart\" onclick=\"quickchart('df-2cd78e0e-4ff7-46c9-88b9-635f263757e0')\"\n",
              "            title=\"Suggest charts\"\n",
              "            style=\"display:none;\">\n",
              "\n",
              "<svg xmlns=\"http://www.w3.org/2000/svg\" height=\"24px\"viewBox=\"0 0 24 24\"\n",
              "     width=\"24px\">\n",
              "    <g>\n",
              "        <path d=\"M19 3H5c-1.1 0-2 .9-2 2v14c0 1.1.9 2 2 2h14c1.1 0 2-.9 2-2V5c0-1.1-.9-2-2-2zM9 17H7v-7h2v7zm4 0h-2V7h2v10zm4 0h-2v-4h2v4z\"/>\n",
              "    </g>\n",
              "</svg>\n",
              "  </button>\n",
              "\n",
              "<style>\n",
              "  .colab-df-quickchart {\n",
              "      --bg-color: #E8F0FE;\n",
              "      --fill-color: #1967D2;\n",
              "      --hover-bg-color: #E2EBFA;\n",
              "      --hover-fill-color: #174EA6;\n",
              "      --disabled-fill-color: #AAA;\n",
              "      --disabled-bg-color: #DDD;\n",
              "  }\n",
              "\n",
              "  [theme=dark] .colab-df-quickchart {\n",
              "      --bg-color: #3B4455;\n",
              "      --fill-color: #D2E3FC;\n",
              "      --hover-bg-color: #434B5C;\n",
              "      --hover-fill-color: #FFFFFF;\n",
              "      --disabled-bg-color: #3B4455;\n",
              "      --disabled-fill-color: #666;\n",
              "  }\n",
              "\n",
              "  .colab-df-quickchart {\n",
              "    background-color: var(--bg-color);\n",
              "    border: none;\n",
              "    border-radius: 50%;\n",
              "    cursor: pointer;\n",
              "    display: none;\n",
              "    fill: var(--fill-color);\n",
              "    height: 32px;\n",
              "    padding: 0;\n",
              "    width: 32px;\n",
              "  }\n",
              "\n",
              "  .colab-df-quickchart:hover {\n",
              "    background-color: var(--hover-bg-color);\n",
              "    box-shadow: 0 1px 2px rgba(60, 64, 67, 0.3), 0 1px 3px 1px rgba(60, 64, 67, 0.15);\n",
              "    fill: var(--button-hover-fill-color);\n",
              "  }\n",
              "\n",
              "  .colab-df-quickchart-complete:disabled,\n",
              "  .colab-df-quickchart-complete:disabled:hover {\n",
              "    background-color: var(--disabled-bg-color);\n",
              "    fill: var(--disabled-fill-color);\n",
              "    box-shadow: none;\n",
              "  }\n",
              "\n",
              "  .colab-df-spinner {\n",
              "    border: 2px solid var(--fill-color);\n",
              "    border-color: transparent;\n",
              "    border-bottom-color: var(--fill-color);\n",
              "    animation:\n",
              "      spin 1s steps(1) infinite;\n",
              "  }\n",
              "\n",
              "  @keyframes spin {\n",
              "    0% {\n",
              "      border-color: transparent;\n",
              "      border-bottom-color: var(--fill-color);\n",
              "      border-left-color: var(--fill-color);\n",
              "    }\n",
              "    20% {\n",
              "      border-color: transparent;\n",
              "      border-left-color: var(--fill-color);\n",
              "      border-top-color: var(--fill-color);\n",
              "    }\n",
              "    30% {\n",
              "      border-color: transparent;\n",
              "      border-left-color: var(--fill-color);\n",
              "      border-top-color: var(--fill-color);\n",
              "      border-right-color: var(--fill-color);\n",
              "    }\n",
              "    40% {\n",
              "      border-color: transparent;\n",
              "      border-right-color: var(--fill-color);\n",
              "      border-top-color: var(--fill-color);\n",
              "    }\n",
              "    60% {\n",
              "      border-color: transparent;\n",
              "      border-right-color: var(--fill-color);\n",
              "    }\n",
              "    80% {\n",
              "      border-color: transparent;\n",
              "      border-right-color: var(--fill-color);\n",
              "      border-bottom-color: var(--fill-color);\n",
              "    }\n",
              "    90% {\n",
              "      border-color: transparent;\n",
              "      border-bottom-color: var(--fill-color);\n",
              "    }\n",
              "  }\n",
              "</style>\n",
              "\n",
              "  <script>\n",
              "    async function quickchart(key) {\n",
              "      const quickchartButtonEl =\n",
              "        document.querySelector('#' + key + ' button');\n",
              "      quickchartButtonEl.disabled = true;  // To prevent multiple clicks.\n",
              "      quickchartButtonEl.classList.add('colab-df-spinner');\n",
              "      try {\n",
              "        const charts = await google.colab.kernel.invokeFunction(\n",
              "            'suggestCharts', [key], {});\n",
              "      } catch (error) {\n",
              "        console.error('Error during call to suggestCharts:', error);\n",
              "      }\n",
              "      quickchartButtonEl.classList.remove('colab-df-spinner');\n",
              "      quickchartButtonEl.classList.add('colab-df-quickchart-complete');\n",
              "    }\n",
              "    (() => {\n",
              "      let quickchartButtonEl =\n",
              "        document.querySelector('#df-2cd78e0e-4ff7-46c9-88b9-635f263757e0 button');\n",
              "      quickchartButtonEl.style.display =\n",
              "        google.colab.kernel.accessAllowed ? 'block' : 'none';\n",
              "    })();\n",
              "  </script>\n",
              "</div>\n",
              "\n",
              "  <div id=\"id_618b9447-1311-4b6a-9be0-75aee1d5455e\">\n",
              "    <style>\n",
              "      .colab-df-generate {\n",
              "        background-color: #E8F0FE;\n",
              "        border: none;\n",
              "        border-radius: 50%;\n",
              "        cursor: pointer;\n",
              "        display: none;\n",
              "        fill: #1967D2;\n",
              "        height: 32px;\n",
              "        padding: 0 0 0 0;\n",
              "        width: 32px;\n",
              "      }\n",
              "\n",
              "      .colab-df-generate:hover {\n",
              "        background-color: #E2EBFA;\n",
              "        box-shadow: 0px 1px 2px rgba(60, 64, 67, 0.3), 0px 1px 3px 1px rgba(60, 64, 67, 0.15);\n",
              "        fill: #174EA6;\n",
              "      }\n",
              "\n",
              "      [theme=dark] .colab-df-generate {\n",
              "        background-color: #3B4455;\n",
              "        fill: #D2E3FC;\n",
              "      }\n",
              "\n",
              "      [theme=dark] .colab-df-generate:hover {\n",
              "        background-color: #434B5C;\n",
              "        box-shadow: 0px 1px 3px 1px rgba(0, 0, 0, 0.15);\n",
              "        filter: drop-shadow(0px 1px 2px rgba(0, 0, 0, 0.3));\n",
              "        fill: #FFFFFF;\n",
              "      }\n",
              "    </style>\n",
              "    <button class=\"colab-df-generate\" onclick=\"generateWithVariable('results')\"\n",
              "            title=\"Generate code using this dataframe.\"\n",
              "            style=\"display:none;\">\n",
              "\n",
              "  <svg xmlns=\"http://www.w3.org/2000/svg\" height=\"24px\"viewBox=\"0 0 24 24\"\n",
              "       width=\"24px\">\n",
              "    <path d=\"M7,19H8.4L18.45,9,17,7.55,7,17.6ZM5,21V16.75L18.45,3.32a2,2,0,0,1,2.83,0l1.4,1.43a1.91,1.91,0,0,1,.58,1.4,1.91,1.91,0,0,1-.58,1.4L9.25,21ZM18.45,9,17,7.55Zm-12,3A5.31,5.31,0,0,0,4.9,8.1,5.31,5.31,0,0,0,1,6.5,5.31,5.31,0,0,0,4.9,4.9,5.31,5.31,0,0,0,6.5,1,5.31,5.31,0,0,0,8.1,4.9,5.31,5.31,0,0,0,12,6.5,5.46,5.46,0,0,0,6.5,12Z\"/>\n",
              "  </svg>\n",
              "    </button>\n",
              "    <script>\n",
              "      (() => {\n",
              "      const buttonEl =\n",
              "        document.querySelector('#id_618b9447-1311-4b6a-9be0-75aee1d5455e button.colab-df-generate');\n",
              "      buttonEl.style.display =\n",
              "        google.colab.kernel.accessAllowed ? 'block' : 'none';\n",
              "\n",
              "      buttonEl.onclick = () => {\n",
              "        google.colab.notebook.generateWithVariable('results');\n",
              "      }\n",
              "      })();\n",
              "    </script>\n",
              "  </div>\n",
              "\n",
              "    </div>\n",
              "  </div>\n"
            ],
            "text/plain": [
              "   Method  Accuracy  Precision  F1_Score    Recall   Average  \\\n",
              "0     GRU  0.996535   0.999681  0.997906  0.996137  0.997564   \n",
              "1     GRU  0.996535   0.999681  0.997906  0.996137  0.997564   \n",
              "2     CNN  0.000000   0.000000  0.000000  0.000000  0.000000   \n",
              "3     CNN  0.290258   0.997479  0.251480  0.143877  0.420773   \n",
              "4    LSTM  0.998249   0.999727  0.998942  0.998159  0.998769   \n",
              "5     DNN  0.000000   0.000000  0.000000  0.000000  0.000000   \n",
              "6     DNN  0.844692   0.992969  0.897258  0.818376  0.888324   \n",
              "7     SVM  0.808215   0.972953  0.872311  0.790537  0.861004   \n",
              "8      LR  0.986309   0.999377  0.991676  0.984092  0.990363   \n",
              "9      GB  0.999925   0.999955  0.999955  0.999955  0.999947   \n",
              "10    kNN  0.999153   0.999773  0.999489  0.999205  0.999405   \n",
              "\n",
              "    Normal_Detect_Rate  Atk_Detect_Rate  \n",
              "0           -13.021576         0.996137  \n",
              "1             0.000000         0.996137  \n",
              "2             0.000000         0.000000  \n",
              "3             0.000000         0.143877  \n",
              "4             0.000000         0.998159  \n",
              "5             0.000000         0.000000  \n",
              "6             0.000000         0.818376  \n",
              "7             0.000000         0.790537  \n",
              "8             0.000000         0.984092  \n",
              "9             0.000000         0.999955  \n",
              "10            0.000000         0.999205  "
            ]
          },
          "execution_count": 69,
          "metadata": {},
          "output_type": "execute_result"
        }
      ],
      "source": [
        "results\n"
      ]
    },
    {
      "cell_type": "code",
      "execution_count": null,
      "metadata": {
        "id": "8RdqsW_78BGK",
        "outputId": "b0871aa5-469b-4abd-d2f1-0c2a085e6b69"
      },
      "outputs": [
        {
          "data": {
            "text/html": [
              "<div>\n",
              "<style scoped>\n",
              "    .dataframe tbody tr th:only-of-type {\n",
              "        vertical-align: middle;\n",
              "    }\n",
              "\n",
              "    .dataframe tbody tr th {\n",
              "        vertical-align: top;\n",
              "    }\n",
              "\n",
              "    .dataframe thead th {\n",
              "        text-align: right;\n",
              "    }\n",
              "</style>\n",
              "<table border=\"1\" class=\"dataframe\">\n",
              "  <thead>\n",
              "    <tr style=\"text-align: right;\">\n",
              "      <th></th>\n",
              "      <th>Method</th>\n",
              "      <th>Accuracy</th>\n",
              "      <th>Precision</th>\n",
              "      <th>Recall</th>\n",
              "      <th>F1_Score</th>\n",
              "      <th>Average</th>\n",
              "      <th>Normal_Detect_Rate</th>\n",
              "      <th>Atk_Detect_Rate</th>\n",
              "    </tr>\n",
              "  </thead>\n",
              "  <tbody>\n",
              "    <tr>\n",
              "      <th>0</th>\n",
              "      <td>GRU</td>\n",
              "      <td>0.998583</td>\n",
              "      <td>0.999509</td>\n",
              "      <td>0.998790</td>\n",
              "      <td>0.999150</td>\n",
              "      <td>0.999008</td>\n",
              "      <td>0.997548</td>\n",
              "      <td>0.998790</td>\n",
              "    </tr>\n",
              "    <tr>\n",
              "      <th>1</th>\n",
              "      <td>CNN</td>\n",
              "      <td>0.987725</td>\n",
              "      <td>0.994210</td>\n",
              "      <td>0.991042</td>\n",
              "      <td>0.992623</td>\n",
              "      <td>0.991400</td>\n",
              "      <td>0.971143</td>\n",
              "      <td>0.991042</td>\n",
              "    </tr>\n",
              "    <tr>\n",
              "      <th>2</th>\n",
              "      <td>LSTM</td>\n",
              "      <td>0.978297</td>\n",
              "      <td>0.999180</td>\n",
              "      <td>0.974756</td>\n",
              "      <td>0.986817</td>\n",
              "      <td>0.984763</td>\n",
              "      <td>0.996001</td>\n",
              "      <td>0.974756</td>\n",
              "    </tr>\n",
              "    <tr>\n",
              "      <th>3</th>\n",
              "      <td>DNN</td>\n",
              "      <td>0.997441</td>\n",
              "      <td>0.998140</td>\n",
              "      <td>0.998790</td>\n",
              "      <td>0.998465</td>\n",
              "      <td>0.998209</td>\n",
              "      <td>0.990696</td>\n",
              "      <td>0.998790</td>\n",
              "    </tr>\n",
              "    <tr>\n",
              "      <th>4</th>\n",
              "      <td>SVM</td>\n",
              "      <td>0.998650</td>\n",
              "      <td>0.999148</td>\n",
              "      <td>0.999232</td>\n",
              "      <td>0.999190</td>\n",
              "      <td>0.999055</td>\n",
              "      <td>0.995740</td>\n",
              "      <td>0.999232</td>\n",
              "    </tr>\n",
              "    <tr>\n",
              "      <th>5</th>\n",
              "      <td>LR</td>\n",
              "      <td>0.998580</td>\n",
              "      <td>0.999068</td>\n",
              "      <td>0.999228</td>\n",
              "      <td>0.999148</td>\n",
              "      <td>0.999006</td>\n",
              "      <td>0.995338</td>\n",
              "      <td>0.999228</td>\n",
              "    </tr>\n",
              "    <tr>\n",
              "      <th>6</th>\n",
              "      <td>GB</td>\n",
              "      <td>0.998680</td>\n",
              "      <td>0.999204</td>\n",
              "      <td>0.999212</td>\n",
              "      <td>0.999208</td>\n",
              "      <td>0.999076</td>\n",
              "      <td>0.996021</td>\n",
              "      <td>0.999212</td>\n",
              "    </tr>\n",
              "    <tr>\n",
              "      <th>7</th>\n",
              "      <td>kNN</td>\n",
              "      <td>0.999126</td>\n",
              "      <td>0.999558</td>\n",
              "      <td>0.999393</td>\n",
              "      <td>0.999475</td>\n",
              "      <td>0.999388</td>\n",
              "      <td>0.997790</td>\n",
              "      <td>0.999393</td>\n",
              "    </tr>\n",
              "  </tbody>\n",
              "</table>\n",
              "</div>"
            ],
            "text/plain": [
              "  Method  Accuracy  Precision    Recall  F1_Score   Average  \\\n",
              "0    GRU  0.998583   0.999509  0.998790  0.999150  0.999008   \n",
              "1    CNN  0.987725   0.994210  0.991042  0.992623  0.991400   \n",
              "2   LSTM  0.978297   0.999180  0.974756  0.986817  0.984763   \n",
              "3    DNN  0.997441   0.998140  0.998790  0.998465  0.998209   \n",
              "4    SVM  0.998650   0.999148  0.999232  0.999190  0.999055   \n",
              "5     LR  0.998580   0.999068  0.999228  0.999148  0.999006   \n",
              "6     GB  0.998680   0.999204  0.999212  0.999208  0.999076   \n",
              "7    kNN  0.999126   0.999558  0.999393  0.999475  0.999388   \n",
              "\n",
              "   Normal_Detect_Rate  Atk_Detect_Rate  \n",
              "0            0.997548         0.998790  \n",
              "1            0.971143         0.991042  \n",
              "2            0.996001         0.974756  \n",
              "3            0.990696         0.998790  \n",
              "4            0.995740         0.999232  \n",
              "5            0.995338         0.999228  \n",
              "6            0.996021         0.999212  \n",
              "7            0.997790         0.999393  "
            ]
          },
          "execution_count": 314,
          "metadata": {},
          "output_type": "execute_result"
        }
      ],
      "source": [
        "results"
      ]
    },
    {
      "cell_type": "code",
      "execution_count": null,
      "metadata": {
        "colab": {
          "base_uri": "https://localhost:8080/",
          "height": 669
        },
        "id": "WwLWNVPnBGoq",
        "outputId": "157888ae-e056-46b2-8d4b-06b76a6da088"
      },
      "outputs": [
        {
          "name": "stderr",
          "output_type": "stream",
          "text": [
            "<ipython-input-75-2040f958739e>:18: FutureWarning: \n",
            "\n",
            "Passing `palette` without assigning `hue` is deprecated and will be removed in v0.14.0. Assign the `y` variable to `hue` and set `legend=False` for the same effect.\n",
            "\n",
            "  ax = sns.barplot(x=\"Scaled_Average\", y=\"Method\", data=results_sorted, palette=\"colorblind\")\n"
          ]
        },
        {
          "data": {
            "image/png": "[encoded data removed]",
            "text/plain": [
              "<Figure size 1000x500 with 1 Axes>"
            ]
          },
          "metadata": {},
          "output_type": "display_data"
        }
      ],
      "source": [
        "results_sorted = results.sort_values(by=\"Average\", ascending=False).copy()\n",
        "\n",
        "results_sorted[\"Scaled_Average\"] = np.interp(results_sorted[\"Average\"],\n",
        "                                             (results_sorted[\"Average\"].min(), results_sorted[\"Average\"].max()),\n",
        "                                             (0.9000, 1.0000))  # Scaling between 0.9000 and 1.0000\n",
        "\n",
        "sns.set_style(\"darkgrid\")\n",
        "\n",
        "plt.figure(figsize=(10, 5))\n",
        "ax = sns.barplot(x=\"Scaled_Average\", y=\"Method\", data=results_sorted, palette=\"colorblind\")\n",
        "\n",
        "plt.xlabel(\"Adjusted Average (0.0001 Accuracy)\")\n",
        "plt.ylabel(\"Method\")\n",
        "plt.title(\"Average of the Metrics (Expanded Differences)\")\n",
        "\n",
        "plt.xlim(0.9000, 1.0000)\n",
        "\n",
        "for index, value in enumerate(results_sorted[\"Scaled_Average\"]):\n",
        "    plt.text(value - 0.005, index, f\"{value:.4f}\", color=\"black\", va=\"center\", fontsize=10)\n",
        "\n",
        "plt.show()\n"
      ]
    },
    {
      "cell_type": "code",
      "execution_count": null,
      "metadata": {
        "id": "OaTsCzQT8BGL",
        "outputId": "935cce3b-72bf-438d-893d-792017ec1735"
      },
      "outputs": [
        {
          "data": {
            "image/png": "[encoded data removed]",
            "text/plain": [
              "<Figure size 864x288 with 1 Axes>"
            ]
          },
          "metadata": {},
          "output_type": "display_data"
        }
      ],
      "source": [
        "plt.figure(figsize=(12,4))\n",
        "ax = sns.barplot(data=results, y='Method', x='Average')\n",
        "ax.set(xlim=(0.98,1))\n",
        "ax.set_title('Average of the Metrics', fontsize=18, loc='left')\n",
        "ax.set_xticklabel()\n",
        "ax = ax"
      ]
    }
  ],
  "metadata": {
    "colab": {
      "machine_shape": "hm",
      "provenance": []
    },
    "kernelspec": {
      "display_name": "Python 3 (ipykernel)",
      "language": "python",
      "name": "python3"
    },
    "language_info": {
      "codemirror_mode": {
        "name": "ipython",
        "version": 3
      },
      "file_extension": ".py",
      "mimetype": "text/x-python",
      "name": "python",
      "nbconvert_exporter": "python",
      "pygments_lexer": "ipython3",
      "version": "3.7.13"
    }
  },
  "nbformat": 4,
  "nbformat_minor": 0
}